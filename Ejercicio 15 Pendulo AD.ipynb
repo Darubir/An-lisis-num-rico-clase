{
 "cells": [
  {
   "cell_type": "code",
   "execution_count": 15,
   "id": "14bbba8d-20da-41f4-b2fd-0800a7c565f2",
   "metadata": {},
   "outputs": [],
   "source": [
    "import matplotlib.pyplot as plt\n",
    "from math import *\n",
    "import numpy as np\n",
    "def Run_Kut4(F,x,y,xStop,h):\n",
    "  def run_kut4(F,x,y,h):\n",
    "    K0 = h*F(x,y)\n",
    "    K1 = h*F(x + h/2.0, y + K0/2.0)\n",
    "    K2 = h*F(x + h/2.0, y + K1/2.0)\n",
    "    K3 = h*F(x + h, y + K2)\n",
    "    return (K0 + 2.0*K1 + 2.0*K2 + K3)/6.0\n",
    "  X = []\n",
    "  Y = []\n",
    "  X.append(x)\n",
    "  Y.append(y)\n",
    "  while x < xStop:\n",
    "    h = min(h,xStop - x)\n",
    "    y = y + run_kut4(F,x,y,h)\n",
    "    x=x+h\n",
    "    X.append(x)\n",
    "    Y.append(y)\n",
    "  return np.array(X),np.array(Y)\n",
    "\n",
    "def imprimeSol(X,Y,frec):\n",
    " \n",
    "  def imprimeEncabezado(n):\n",
    "    print(\"\\n x \",end=\" \")\n",
    "    for i in range (n):\n",
    "      print(\" y[\",i,\"] \",end=\" \")\n",
    "    print()\n",
    "\n",
    "  def imprimeLinea(x,y,n):\n",
    "    print(\"{:13.4e}\".format(x),end=\" \")\n",
    "    for i in range (n):\n",
    "      print(\"{:13.4e}\".format(y[i]),end=\" \")\n",
    "    print() \n",
    "  \n",
    "  m = len(Y)\n",
    "  try: n = len(Y[0])\n",
    "  except TypeError: n = 1\n",
    "  if frec == 0: frec = m\n",
    "  imprimeEncabezado(n)\n",
    "  for i in range(0,m,frec):\n",
    "   imprimeLinea(X[i],Y[i],n)\n",
    "  if i != m - 1: imprimeLinea(X[m - 1],Y[m - 1],n)"
   ]
  },
  {
   "cell_type": "code",
   "execution_count": 16,
   "id": "431743f7-a7a6-441b-935d-5c506a0658b4",
   "metadata": {},
   "outputs": [
    {
     "name": "stdout",
     "output_type": "stream",
     "text": [
      "La solución es\n",
      "\n",
      " x   y[ 0 ]   y[ 1 ]   y[ 2 ]   y[ 3 ]  \n",
      "   0.0000e+00    5.0000e-01    0.0000e+00    1.0472e+00    0.0000e+00 \n",
      "   4.0000e-02    5.0389e-01    1.9237e-01    1.0337e+00   -6.6897e-01 \n",
      "   8.0000e-02    5.1509e-01    3.6215e-01    9.9447e-01   -1.2797e+00 \n",
      "   1.2000e-01    5.3226e-01    4.8711e-01    9.3264e-01   -1.7940e+00 \n",
      "   1.6000e-01    5.5320e-01    5.4840e-01    8.5236e-01   -2.2025e+00 \n",
      "   2.0000e-01    5.7514e-01    5.3576e-01    7.5765e-01   -2.5202e+00 \n",
      "   2.4000e-01    5.9512e-01    4.5246e-01    6.5160e-01   -2.7739e+00 \n",
      "   2.8000e-01    6.1063e-01    3.1683e-01    5.3623e-01   -2.9900e+00 \n",
      "   3.2000e-01    6.2016e-01    1.5874e-01    4.1266e-01   -3.1859e+00 \n",
      "   3.6000e-01    6.2348e-01    1.1916e-02    2.8157e-01   -3.3658e+00 \n",
      "   4.0000e-01    6.2164e-01   -9.5843e-02    1.4374e-01   -3.5195e+00 \n",
      "   4.4000e-01    6.1652e-01   -1.5127e-01    6.5578e-04   -3.6245e+00 \n",
      "   4.8000e-01    6.1017e-01   -1.5973e-01   -1.4521e-01   -3.6539e+00 \n",
      "   5.2000e-01    6.0409e-01   -1.4256e-01   -2.9036e-01   -3.5869e+00 \n",
      "   5.6000e-01    5.9873e-01   -1.2799e-01   -4.3080e-01   -3.4191e+00 \n",
      "   6.0000e-01    5.9350e-01   -1.3946e-01   -5.6271e-01   -3.1631e+00 \n",
      "   6.4000e-01    5.8709e-01   -1.8648e-01   -6.8296e-01   -2.8402e+00 \n",
      "   6.8000e-01    5.7820e-01   -2.6173e-01   -7.8928e-01   -2.4687e+00 \n",
      "   7.2000e-01    5.6606e-01   -3.4425e-01   -8.7992e-01   -2.0561e+00 \n",
      "   7.6000e-01    5.5093e-01   -4.0634e-01   -9.5315e-01   -1.5971e+00 \n",
      "   8.0000e-01    5.3418e-01   -4.2138e-01   -1.0069e+00   -1.0788e+00 \n",
      "   8.4000e-01    5.1811e-01   -3.7008e-01   -1.0385e+00   -4.8998e-01 \n",
      "   8.8000e-01    5.0557e-01   -2.4464e-01   -1.0452e+00    1.6388e-01 \n",
      "   9.2000e-01    4.9945e-01   -5.1213e-02   -1.0250e+00    8.4747e-01 \n",
      "   9.6000e-01    5.0209e-01    1.8814e-01   -9.7789e-01    1.4947e+00 \n",
      "   1.0000e+00    5.1460e-01    4.3450e-01   -9.0690e-01    2.0316e+00 \n",
      "   1.0400e+00    5.3626e-01    6.3626e-01   -8.1744e-01    2.4146e+00 \n",
      "   1.0800e+00    5.6421e-01    7.4175e-01   -7.1570e-01    2.6513e+00 \n",
      "   1.1200e+00    5.9385e-01    7.1700e-01   -6.0667e-01    2.7886e+00 \n",
      "   1.1600e+00    6.1979e-01    5.5987e-01   -4.9316e-01    2.8839e+00 \n",
      "   1.2000e+00    6.3730e-01    3.0372e-01   -3.7589e-01    2.9834e+00 \n",
      "   1.2400e+00    6.4357e-01    9.3171e-03   -2.5407e-01    3.1138e+00 \n",
      "   1.2800e+00    6.3849e-01   -2.5192e-01   -1.2629e-01    3.2806e+00 \n",
      "   1.3200e+00    6.2469e-01   -4.1873e-01    8.6262e-03    3.4651e+00 \n",
      "   1.3600e+00    6.0670e-01   -4.5918e-01    1.5056e-01    3.6221e+00 \n",
      "   1.4000e+00    5.8954e-01   -3.8214e-01    2.9716e-01    3.6867e+00 \n",
      "   1.4400e+00    5.7707e-01   -2.3495e-01    4.4345e-01    3.5995e+00 \n",
      "   1.4800e+00    5.7078e-01   -8.5031e-02    5.8280e-01    3.3402e+00 \n",
      "   1.5200e+00    5.6949e-01    7.2696e-03    7.0878e-01    2.9401e+00 \n",
      "   1.5600e+00    5.7015e-01    1.0464e-02    8.1691e-01    2.4576e+00 \n",
      "   1.6000e+00    5.6918e-01   -7.1134e-02    9.0496e-01    1.9420e+00 \n",
      "   1.6400e+00    5.6378e-01   -2.0374e-01    9.7212e-01    1.4144e+00 \n",
      "   1.6800e+00    5.5287e-01   -3.3706e-01    1.0179e+00    8.6863e-01 \n",
      "   1.7200e+00    5.3751e-01   -4.1856e-01    1.0411e+00    2.8358e-01 \n",
      "   1.7600e+00    5.2065e-01   -4.0595e-01    1.0398e+00   -3.5897e-01 \n",
      "   1.8000e+00    5.0660e-01   -2.7689e-01    1.0117e+00   -1.0508e+00 \n",
      "   1.8400e+00    5.0000e-01   -3.6332e-02    9.5578e-01   -1.7361e+00 \n",
      "   1.8800e+00    5.0469e-01    2.7794e-01    8.7420e-01   -2.3166e+00 \n",
      "   1.9200e+00    5.2229e-01    5.9590e-01    7.7306e-01   -2.7039e+00 \n",
      "   1.9600e+00    5.5124e-01    8.3030e-01    6.6072e-01   -2.8818e+00 \n",
      "   2.0000e+00    5.8658e-01    9.0590e-01    5.4450e-01   -2.9120e+00 \n"
     ]
    },
    {
     "data": {
      "image/png": "[encoded data removed]",
      "text/plain": [
       "<Figure size 432x288 with 1 Axes>"
      ]
     },
     "metadata": {
      "needs_background": "light"
     },
     "output_type": "display_data"
    }
   ],
   "source": [
    "def F(x,y):\n",
    "  g=9.80665\n",
    "  k=40\n",
    "  L=0.5\n",
    "  m=0.25\n",
    "  F=np.zeros(4)\n",
    "  F[0]=y[1]\n",
    "  F[1]=y[0]*(y[3]**2)+g*np.cos(y[2])-(k/m)*(y[0]-L)\n",
    "  F[2]=y[3]\n",
    "  F[3]=(-2*y[1]*y[3]-g*np.sin(y[2]))/y[0]\n",
    "  return F\n",
    "\n",
    "y=np.array([0.5,0.0,np.pi/3,0])\n",
    "X,Y=Run_Kut4(F,0.0,y,2.0,0.01)\n",
    "print(\"La solución es\")\n",
    "imprimeSol(X,Y,4)\n",
    "\n",
    "plt.plot(X,Y[:,0],\"o\",label=\"Método de Runke-Kutta 4\")\n",
    "plt.grid()\n",
    "plt.legend()\n",
    "plt.show()\n",
    "\n"
   ]
  },
  {
   "cell_type": "code",
   "execution_count": 17,
   "id": "27fe4deb-4509-4242-8015-9ec98e56e227",
   "metadata": {},
   "outputs": [
    {
     "name": "stdout",
     "output_type": "stream",
     "text": [
      "θ cruza 0 por primera vez en t ≈ 0.4402 s\n",
      "Longitud de la cuerda en ese instante: r ≈ 0.6165 m\n"
     ]
    }
   ],
   "source": [
    "theta = Y[:,2]\n",
    "for i in range(1, len(theta)):\n",
    "  if theta[i-1] > 0 and theta[i] <= 0:\n",
    "    t1, t2 = X[i-1], X[i]\n",
    "    r1, r2 = Y[i-1,0], Y[i,0]\n",
    "    th1, th2 = theta[i-1], theta[i]\n",
    "    # Interpolación lineal\n",
    "    t_cross = t1 + (0 - th1) * (t2 - t1) / (th2 - th1)\n",
    "    r_cross = r1 + (0 - th1) * (r2 - r1) / (th2 - th1)\n",
    "    print(\"θ cruza 0 por primera vez en t ≈ {:.4f} s\".format(t_cross))\n",
    "    print(\"Longitud de la cuerda en ese instante: r ≈ {:.4f} m\".format(r_cross))\n",
    "    break"
   ]
  },
  {
   "cell_type": "code",
   "execution_count": 18,
   "id": "bb9cddc6",
   "metadata": {},
   "outputs": [
    {
     "data": {
      "image/png": "[encoded data removed]",
      "text/plain": [
       "<Figure size 432x288 with 1 Axes>"
      ]
     },
     "metadata": {
      "needs_background": "light"
     },
     "output_type": "display_data"
    }
   ],
   "source": [
    "plt.figure()\n",
    "plt.plot(Y[:,2], Y[:,0], \"o\", label=\"r vs θ\")\n",
    "plt.xlabel(\"Ángulo θ (rad)\")\n",
    "plt.ylabel(\"Longitud r (m)\")\n",
    "plt.title(\"Longitud r en función del ángulo θ\")\n",
    "plt.grid()\n",
    "plt.legend()\n",
    "plt.show()\n",
    "\n"
   ]
  },
  {
   "cell_type": "code",
   "execution_count": null,
   "id": "36c03f48",
   "metadata": {},
   "outputs": [],
   "source": []
  }
 ],
 "metadata": {
  "kernelspec": {
   "display_name": "Python 3 (ipykernel)",
   "language": "python",
   "name": "python3"
  },
  "language_info": {
   "codemirror_mode": {
    "name": "ipython",
    "version": 3
   },
   "file_extension": ".py",
   "mimetype": "text/x-python",
   "name": "python",
   "nbconvert_exporter": "python",
   "pygments_lexer": "ipython3",
   "version": "3.9.12"
  }
 },
 "nbformat": 4,
 "nbformat_minor": 5
}
