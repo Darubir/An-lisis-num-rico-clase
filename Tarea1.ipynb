{
 "cells": [
  {
   "cell_type": "code",
   "execution_count": 3,
   "id": "f5ddc3ff-8159-4543-88c6-cec5c14f9ab8",
   "metadata": {
    "scrolled": true
   },
   "outputs": [],
   "source": [
    "import math as mt\n"
   ]
  },
  {
   "cell_type": "markdown",
   "id": "233e049e-d689-46d8-8e6b-d316691438f9",
   "metadata": {},
   "source": [
    "EJERCICIO 1\n",
    "Fahrenheit a Celsius"
   ]
  },
  {
   "cell_type": "code",
   "execution_count": 5,
   "id": "f2013bb0-d324-491f-9bdc-1e6623651451",
   "metadata": {},
   "outputs": [
    {
     "name": "stdin",
     "output_type": "stream",
     "text": [
      "ingresa una temperatura en grados farenheith 346\n"
     ]
    },
    {
     "name": "stdout",
     "output_type": "stream",
     "text": [
      "a celcius es: 174.44444444444443\n"
     ]
    }
   ],
   "source": [
    "f=float(input(\"ingresa una temperatura en grados farenheith\"))\n",
    "def celcius(f):\n",
    "    c=(f-32)/1.8\n",
    "    return c\n",
    "c=celcius(f)\n",
    "print(\"a celcius es:\",c)"
   ]
  },
  {
   "cell_type": "markdown",
   "id": "75eeef80-f19e-406f-8583-8a8bd6f07661",
   "metadata": {},
   "source": [
    "EJERCICIO 2\n",
    "Considera la definición del sinh(x)\n",
    "sinh(x)=(e^x - e^-x)/2  en x=2pi\n",
    "1.evaluando sinh(x) directamente\n",
    "2.evaluando con la definición usando la función exponencial\n",
    "3.evaluando con la definición del lado derecho, usando la potencia"
   ]
  },
  {
   "cell_type": "code",
   "execution_count": 8,
   "id": "eb680e9d-a29e-4569-98cd-56d427b9b391",
   "metadata": {},
   "outputs": [
    {
     "name": "stdout",
     "output_type": "stream",
     "text": [
      "74.20321057778875 74.20321057778874 74.20321057778875\n"
     ]
    }
   ],
   "source": [
    "#1\n",
    "x=5\n",
    "sh1=mt.sinh(x)\n",
    "#2\n",
    "sh2=(mt.e**x - mt.e**-x)/2\n",
    "#3\n",
    "sh3=(math.exp(x)- math.exp(-x))/2\n",
    "print(sh1,sh2,sh3)"
   ]
  },
  {
   "cell_type": "markdown",
   "id": "c099721d-2167-4096-aeea-1f06d7c51dee",
   "metadata": {},
   "source": [
    "redondear a 16 decimales"
   ]
  },
  {
   "cell_type": "code",
   "execution_count": 11,
   "id": "d2a65262-3201-48c1-8360-343546518141",
   "metadata": {},
   "outputs": [
    {
     "name": "stdout",
     "output_type": "stream",
     "text": [
      "74.20321057778875\n"
     ]
    }
   ],
   "source": [
    "sh11=round(sh1,16)\n",
    "print(sh11)"
   ]
  },
  {
   "cell_type": "code",
   "execution_count": null,
   "id": "32509b3c-9b22-432c-b675-876a57344b24",
   "metadata": {},
   "outputs": [],
   "source": []
  }
 ],
 "metadata": {
  "kernelspec": {
   "display_name": "Python 3 (ipykernel)",
   "language": "python",
   "name": "python3"
  },
  "language_info": {
   "codemirror_mode": {
    "name": "ipython",
    "version": 3
   },
   "file_extension": ".py",
   "mimetype": "text/x-python",
   "name": "python",
   "nbconvert_exporter": "python",
   "pygments_lexer": "ipython3",
   "version": "3.12.3"
  }
 },
 "nbformat": 4,
 "nbformat_minor": 5
}
