{
 "cells": [
  {
   "cell_type": "markdown",
   "id": "b7fe0833-241c-489f-ad09-4a4afdbb2930",
   "metadata": {},
   "source": [
    "INTERSECCIÓN DE TRAYECTORIAS.\n",
    "Tres objetos se mueven de tal manera que sus trayectorias son \n",
    "$$\n",
    "\\begin{aligned}\n",
    "    &2x - y + 3z = 24 \\\\\n",
    "    &2y - z = 14 \\\\\n",
    "    &7x - 5y = 6\n",
    "\\end{aligned}\n",
    "$$\n",
    "encontrar su punto de interseccion"
   ]
  },
  {
   "cell_type": "code",
   "execution_count": 2,
   "id": "2fb0cdc7-92fe-4ecd-84f1-ee202f87a50e",
   "metadata": {},
   "outputs": [
    {
     "name": "stdout",
     "output_type": "stream",
     "text": [
      "La matriz aumentada es :\n",
      " [[ 2. -1.  3. 24.]\n",
      " [ 0.  2. -1. 14.]\n",
      " [ 7. -5.  0.  6.]]\n",
      "El vector solución es :\n",
      " [[ 8.]\n",
      " [10.]\n",
      " [ 6.]]\n"
     ]
    }
   ],
   "source": [
    "#matriz de coeficientes\n",
    "import numpy as np\n",
    "a=np.array([[2.0,-1.0,3.0],[0.0,2.0,-1.0],[7.0,-5.0,0.0]])\n",
    "#matriz columna\n",
    "b=np.array([[24.0],[14.0],[6.0]])\n",
    "\n",
    "#con eliminación gaussiana\n",
    "n = len(b)\n",
    "matriz_aumentada = np.concatenate((a,b), axis=1, dtype=float)\n",
    "print('La matriz aumentada es :\\n', matriz_aumentada)\n",
    "def gaussElimin(a,b):\n",
    "  # Fase de eliminacion\n",
    "  for k in range(0,n-1):\n",
    "    for i in range(k+1,n):\n",
    "      if matriz_aumentada[i,k] != 0.0:\n",
    "        lam = matriz_aumentada[i,k]/matriz_aumentada[k,k]\n",
    "        matriz_aumentada[i] = matriz_aumentada[i] - lam*matriz_aumentada[k]\n",
    "        b[i] = b[i] - lam*b[k]\n",
    "        \n",
    "  # Fase de sustitucion hacia atras\n",
    "  for k in range(n-1,-1,-1):\n",
    "    b[k] = (b[k] - np.dot(matriz_aumentada[k,k+1:n],b[k+1:n]))/matriz_aumentada[k,k]\n",
    "  return b\n",
    "\n",
    "print('El vector solución es :\\n',gaussElimin(a,b))\n"
   ]
  },
  {
   "cell_type": "markdown",
   "id": "090df0c8-4fd7-473d-9940-65e62c415b54",
   "metadata": {},
   "source": [
    "CARGA DE LOS QUARKS.\n",
    "Los protones y neutrones están formados cada uno por tres quarks. Los protones poseen dos quarks up (u) y un quark down (d), los neutrones poseen un quark up y dos quarks down. Si la carga de un protón es igual al positivo de la carga del electrón(+e) y la carga de un neutrón es cero, determine las cargas de los quarks up y down.(suponga que +e=1)\n",
    "\n",
    "\n",
    "protón=2u+d\n",
    "neutrón=u+2d\n",
    "1.ecuación lineal del sistema\n",
    "$$\n",
    "\\begin{aligned}\n",
    "    &2u + d = 1 \\\\\n",
    "    &u + 2d = 0\n",
    "\\end{aligned}\n",
    "$$\n",
    "2. nuestras matrices para la formas Ax=b, donde x=(u,d) y b=(1,0)\n",
    "\n",
    "\n",
    "\\begin{aligned}\n",
    "&\\begin{pmatrix} \n",
    "2 & 1 \\\\ \n",
    "1 & 2 \n",
    "\\end{pmatrix} \n",
    "\\begin{pmatrix} \n",
    "u \\\\ \n",
    "d \n",
    "\\end{pmatrix} = \n",
    "\\begin{pmatrix} \n",
    "1 \\\\ \n",
    "0 \n",
    "\\end{pmatrix}\n",
    "\\end{aligned}\n"
   ]
  },
  {
   "cell_type": "code",
   "execution_count": 4,
   "id": "4a8ecd5b-1b78-4c14-800e-b07107df3a41",
   "metadata": {},
   "outputs": [
    {
     "name": "stdout",
     "output_type": "stream",
     "text": [
      "La matriz de coeficientes es:\n",
      "  [[2. 1.]\n",
      " [1. 2.]]\n",
      "La matriz constante es:\n",
      "  [[1.]\n",
      " [0.]]\n",
      "La matriz aumentada es :\n",
      " [[2. 1. 1.]\n",
      " [1. 2. 0.]]\n",
      "las cargas de los quarks up y down son :\n",
      " [[ 0.66666667]\n",
      " [-0.33333333]]\n"
     ]
    }
   ],
   "source": [
    "a = np.array([[2.0, 1.0], [1.0, 2.0]])\n",
    "print('La matriz de coeficientes es:\\n ', a)\n",
    "\n",
    "b = np.array([[1.0],[0.0]])\n",
    "n = len(b)\n",
    "print('La matriz constante es:\\n ', b)\n",
    "\n",
    "matriz_aumentada = np.concatenate((a,b), axis=1, dtype=float)\n",
    "print('La matriz aumentada es :\\n', matriz_aumentada)\n",
    "\n",
    "\n",
    "def gaussElimin(a,b):\n",
    "  # Fase de eliminacion\n",
    "  for k in range(0,n-1):\n",
    "    for i in range(k+1,n):\n",
    "      if matriz_aumentada[i,k] != 0.0:\n",
    "        lam = matriz_aumentada[i,k]/matriz_aumentada[k,k]\n",
    "        matriz_aumentada[i] = matriz_aumentada[i] - lam*matriz_aumentada[k]\n",
    "        b[i] = b[i] - lam*b[k]\n",
    "     \n",
    "  # Fase de sustitucion hacia atras\n",
    "  for k in range(n-1,-1,-1):\n",
    "    b[k] = (b[k] - np.dot(matriz_aumentada[k,k+1:n],b[k+1:n]))/matriz_aumentada[k,k]\n",
    "  return b\n",
    "\n",
    "\n",
    "print('las cargas de los quarks up y down son :\\n',gaussElimin(a,b))"
   ]
  },
  {
   "cell_type": "markdown",
   "id": "3f0da087-ba67-484b-821c-a3a601fd0bd4",
   "metadata": {},
   "source": [
    "METEOROS. \n",
    "El Centro de Investigación 1 examina la cantidad de meteoros que entran a la atmósfera. Con su equipo de recopilación de datos durante 8 horas captó 95kg de meteoros, por fuentes externas sabemos que fueron de 4 distintas masas (1kg, 5kg, 10kg y 20kg). La cantidad total de meteoros fue de 26. Otro centro de investigación captó que la cantidad de meteoros de 5kg es 4 veces la cantidad de meteoros de 10kg, y el número de meteoros de 1kg es 1 menos que el doble de la cantidad de meteoros de 5kg. Después use matrices para encontrar el número asociado a cada masa de meteoros.\n",
    "1.nuestras ecuaciones lineales son \n",
    "$$\n",
    "\\begin{aligned}\n",
    "    &x1 + x2 + x3 + x4 = 26 \\\\\n",
    "    &x1 + 5x2 + 10x3 + 20x4 = 95 \\\\\n",
    "    &      x2 - 4x3 = 0 \\\\\n",
    "    &x1 - 2x2 = -1\n",
    "\\end{aligned}\n",
    "$$\n"
   ]
  },
  {
   "cell_type": "code",
   "execution_count": 9,
   "id": "eb989762-9606-4aee-b4ff-1ae8fa1e74b4",
   "metadata": {},
   "outputs": [
    {
     "name": "stdout",
     "output_type": "stream",
     "text": [
      "La matriz de coeficientes es:\n",
      "  [[ 1.  1.  1.  1.]\n",
      " [ 1.  5. 10. 20.]\n",
      " [ 0.  1. -4.  0.]\n",
      " [ 1. -2.  0.  0.]]\n",
      "El vector solución es :\n",
      " [[15.]\n",
      " [ 8.]\n",
      " [ 2.]\n",
      " [ 1.]]\n"
     ]
    }
   ],
   "source": [
    "a = np.array([[1.0, 1.0, 1.0, 1.0], [1.0, 5.0, 10.0, 20.0], [0.0, 1.0, -4.0, 0.0], [1.0, -2.0, 0.0, 0.0]])\n",
    "print('La matriz de coeficientes es:\\n ', a)\n",
    "b = np.array([[26.0], [95.0], [0.0], [-1.0]])\n",
    "n = len(b)\n",
    "\n",
    "matriz_aumentada = np.concatenate((a,b), axis=1, dtype=float)\n",
    "\n",
    "\n",
    "def gaussElimin(a,b):\n",
    "  # Fase de eliminacion\n",
    "  for k in range(0,n-1):\n",
    "    for i in range(k+1,n):\n",
    "      if matriz_aumentada[i,k] != 0.0:\n",
    "        lam = matriz_aumentada[i,k]/matriz_aumentada[k,k]\n",
    "        matriz_aumentada[i] = matriz_aumentada[i] - lam*matriz_aumentada[k]\n",
    "        b[i] = b[i] - lam*b[k]\n",
    "  # Fase de sustitucion hacia atras\n",
    "  for k in range(n-1,-1,-1):\n",
    "    b[k] = (b[k] - np.dot(matriz_aumentada[k,k+1:n],b[k+1:n]))/matriz_aumentada[k,k]\n",
    "  return b\n",
    "\n",
    "\n",
    "print('El vector solución es :\\n',gaussElimin(a,b))"
   ]
  }
 ],
 "metadata": {
  "kernelspec": {
   "display_name": "Python (myenv)",
   "language": "python",
   "name": "myenv"
  },
  "language_info": {
   "codemirror_mode": {
    "name": "ipython",
    "version": 3
   },
   "file_extension": ".py",
   "mimetype": "text/x-python",
   "name": "python",
   "nbconvert_exporter": "python",
   "pygments_lexer": "ipython3",
   "version": "3.12.3"
  }
 },
 "nbformat": 4,
 "nbformat_minor": 5
}
