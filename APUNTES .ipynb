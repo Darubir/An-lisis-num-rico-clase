{
 "cells": [
  {
   "cell_type": "markdown",
   "id": "0178a121-24ce-4038-a778-616dc72eb389",
   "metadata": {},
   "source": [
    "kernel myenv"
   ]
  },
  {
   "cell_type": "code",
   "execution_count": 2,
   "id": "752f5022-d229-4e3a-b342-18e620fb441f",
   "metadata": {},
   "outputs": [],
   "source": [
    "import numpy as np"
   ]
  },
  {
   "cell_type": "markdown",
   "id": "4f61ea44-87d9-4e80-bfca-295962c8784d",
   "metadata": {},
   "source": [
    "<div style=\"font-family: Arial, sans-serif; font-size: 24px; font-weight: bold;\">\n",
    "    PRIMERA SECCIÓN. INTRODUCCIÓN\n",
    "</div>"
   ]
  },
  {
   "cell_type": "markdown",
   "id": "4df18bd1-a2a3-4bc7-8617-726ee51d2ce1",
   "metadata": {},
   "source": [
    "FUNCIONES MATEMÁTICAS\n",
    "uso de math.nombre()\n",
    "https://docs.python.org/3/library/math.html"
   ]
  },
  {
   "cell_type": "code",
   "execution_count": 4,
   "id": "db768b3d-d82f-443e-a7e9-36a2b89350c6",
   "metadata": {},
   "outputs": [
    {
     "data": {
      "text/plain": [
       "2.0"
      ]
     },
     "execution_count": 4,
     "metadata": {},
     "output_type": "execute_result"
    }
   ],
   "source": [
    "import math as mt\n",
    "from math import *   #para no tener que usar mt cada que ocupe una funcion\n",
    "sqrt(4) #no necesito usar print(), solo pongo la variable o la funcion"
   ]
  },
  {
   "cell_type": "markdown",
   "id": "5c446ed8-8d26-4ecb-aa9a-81ad3cd3f547",
   "metadata": {},
   "source": [
    "NÚMEROS COMPLEJOS\n",
    "unidad de los imaginarios es 1j,en lugar de i.\n",
    "Puedes definir un complejo con la notación a + b*1j o con la notación complex(a,b)\n",
    "-Operaciones:\n",
    "suma\n",
    "resta\n",
    "division\n",
    "multiplicacion"
   ]
  },
  {
   "cell_type": "code",
   "execution_count": 5,
   "id": "05b8d43f-58b9-477b-9a09-6432af5f5c42",
   "metadata": {},
   "outputs": [
    {
     "name": "stdout",
     "output_type": "stream",
     "text": [
      "la suma de un real y un complejo (12+5j)\n"
     ]
    },
    {
     "data": {
      "text/plain": [
       "5.0"
      ]
     },
     "execution_count": 5,
     "metadata": {},
     "output_type": "execute_result"
    }
   ],
   "source": [
    "com1=complex(8,5)\n",
    "com2=complex(2,6)\n",
    "comp4=com1+4\n",
    "print(\"la suma de un real y un complejo\",comp4)\n",
    "#comandos\n",
    "r=com1.real\n",
    "c=com1.imag\n",
    "cc=com1.conjugate()\n",
    "c"
   ]
  },
  {
   "cell_type": "markdown",
   "id": "de5c93d1-0d02-48eb-93e1-5032fe7e2b97",
   "metadata": {},
   "source": [
    "FUNCIONES DE VARIABLES COMPLEJAS\n",
    "en lugar de usar math, se usa cmath para números complejos"
   ]
  },
  {
   "cell_type": "code",
   "execution_count": 6,
   "id": "bde412dd-8ff1-4173-82a4-7ce041065369",
   "metadata": {},
   "outputs": [
    {
     "data": {
      "text/plain": [
       "(-2.6279463948751562+3.0156090173732184j)"
      ]
     },
     "execution_count": 6,
     "metadata": {},
     "output_type": "execute_result"
    }
   ],
   "source": [
    "from cmath import sin, sinh, exp, cos\n",
    "r1=sin(8j)\n",
    "r2=sinh(6j)*e  #puedo seguir usando opciones de math\n",
    "r3=4j*exp(7j)\n",
    "r3 #imprime (-2.6279463948751562+3.0156090173732184j), donde -2.6279463948751562 es la parte real y +3.0156090173732184j la imaginaria"
   ]
  },
  {
   "cell_type": "markdown",
   "id": "f5c59bd2-3908-4e2c-a328-985e210b3089",
   "metadata": {},
   "source": [
    "NÚMERO REAL A IMAGINARIO\n",
    "numero imaginario: 3i\n",
    "numero complejo(parte real e imaginaria): 2+3i\n",
    "si tengo un numero real x1=2 y la convierto en imaginaria con 1j"
   ]
  },
  {
   "cell_type": "code",
   "execution_count": 7,
   "id": "d35a8739-f833-4a48-b7bb-a7e4edd3f9c6",
   "metadata": {},
   "outputs": [
    {
     "data": {
      "text/plain": [
       "2j"
      ]
     },
     "execution_count": 7,
     "metadata": {},
     "output_type": "execute_result"
    }
   ],
   "source": [
    "x1=2\n",
    "x2=2*1j\n",
    "x2"
   ]
  },
  {
   "cell_type": "markdown",
   "id": "50952a66-dc43-4043-a97f-20bc0bdeed61",
   "metadata": {},
   "source": [
    "FUNCIONES EN EL PLANO COMPLEJO\n",
    "uso de:\n",
    "from numpy.lib.scimath import *\n",
    "para funciones con números complejos y reales al mismo tiempo (plano complejo)"
   ]
  },
  {
   "cell_type": "code",
   "execution_count": 8,
   "id": "41507ab3-66c8-4938-b38c-35344fdebec0",
   "metadata": {},
   "outputs": [],
   "source": [
    "from numpy.lib.scimath import *"
   ]
  },
  {
   "cell_type": "markdown",
   "id": "00a3f770-c5be-4161-bde5-65d0cc1bd016",
   "metadata": {},
   "source": [
    "DERIVADAS E INTEGRALES SIMBÓLICAS\n",
    "\n",
    "symbols # expresiones simbólicas (representar expresiones algebraicas y matemáticas sin asignarles valores numéricos) \n",
    "diff    # derivada de una expresión simbólica con respecto a una variable: diff(expresion, x) seg derivada diff(expresion,x,x)\n",
    "integrate # integral de una expresión simbólica con respecto de una variable: integrate(expresion, x)\n",
    "Rational # definir números racionales, es decir, fracciones con numerador y denominador enteros: Rational(1, 3)  # Representa 1/3\n",
    "lambdify # convertir expresiones simbólicas en funciones que pueden ser evaluadas: f = lambdify(x, expresion), result = f(2)  # Evalúa la expresión en x = 2\n",
    "solve # encontrará los valores de x (raices con x=0) que satisfacen esta ecuación :solve(equation, x) \n",
    "\n",
    "Podemos ver como funciona la diferenciacion e integracion simbolica usando la expresipon v_0t-(1/2)gt^2\n",
    "Ej. Derivar y luego integrar para regresar a la expresión original de caída libre con respecto al tiempo"
   ]
  },
  {
   "cell_type": "code",
   "execution_count": 16,
   "id": "5b184e41-a7cc-4579-a57d-2a17435de6fb",
   "metadata": {},
   "outputs": [
    {
     "name": "stdout",
     "output_type": "stream",
     "text": [
      "y= -g*t**2/2 + t*v0\n",
      "y'= -g*t + v0\n",
      "la integral de y' es: -g*t**2/2 + t*v0\n",
      "-72.5\n"
     ]
    }
   ],
   "source": [
    "from sympy import symbols, diff,integrate, Rational, lambdify,solve\n",
    "v0,g,t=symbols('v0,g,t')  #en primer lugar todas nuestras variables son símbolos\n",
    "y=v0*t-Rational(1,2)*g*t**2  #expresión simbólica\n",
    "print(\"y=\",y)\n",
    "#derivar\n",
    "der1=diff(y,t)\n",
    "print(\"y'=\",der1)\n",
    "#integrar\n",
    "int1=integrate(der1,t)\n",
    "print(\"la integral de y' es:\",int1)\n",
    "f=lambdify((t,v0,g),y)\n",
    "print(f(5,10,9.8))\n",
    "roots = solve(y, t) #resuelve cuando y=0 para t\n",
    "#print ('Las raices son', roots) \n",
    "#print ('La primera raiz es', roots[0])\n",
    "#print ('La primera raiz es', roots[1])"
   ]
  },
  {
   "cell_type": "markdown",
   "id": "f6216380-7b5d-47ee-b5f3-303df1ba6ccb",
   "metadata": {},
   "source": [
    "SERIE DE TAYLOR(aproximaciones)\n",
    "\n",
    "La representación de la expresión expr en Serie de Taylor de orden **n**, en la variable **t** alrededor de **t0**, se calcula como                       \n",
    "**expr.series(t, t0, n)**.\n",
    "                        \n"
   ]
  },
  {
   "cell_type": "code",
   "execution_count": 9,
   "id": "3a85a95f-68b9-4f78-a409-bdbbf6461294",
   "metadata": {},
   "outputs": [
    {
     "data": {
      "text/latex": [
       "$\\displaystyle 1 + t + \\frac{t^{2}}{2} - \\frac{t^{4}}{8} - \\frac{t^{5}}{15} - \\frac{t^{6}}{240} + \\frac{t^{7}}{90} + O\\left(t^{8}\\right)$"
      ],
      "text/plain": [
       "1 + t + t**2/2 - t**4/8 - t**5/15 - t**6/240 + t**7/90 + O(t**8)"
      ]
     },
     "execution_count": 9,
     "metadata": {},
     "output_type": "execute_result"
    }
   ],
   "source": [
    "from sympy import symbols, exp, sin, cos, simplify, expand\n",
    "\n",
    "#para la funcion e^t \n",
    "t = symbols('t')\n",
    "exp(t).series(t, 0, 3)\n",
    "\n",
    "#para la funcion e^sen(t)\n",
    "t = symbols('t')\n",
    "f = exp(sin(t))\n",
    "f.series(t, 0, 8)\n"
   ]
  },
  {
   "cell_type": "markdown",
   "id": "f0228abb-7163-4ecb-aa50-09b55ed64de2",
   "metadata": {},
   "source": [
    "\n",
    "Puedo manipular las epxresiones puedo usar **expand** y **simplify**.   "
   ]
  },
  {
   "cell_type": "code",
   "execution_count": 26,
   "id": "aaa527a1-a4ab-44bd-ad32-ddd05502002d",
   "metadata": {},
   "outputs": [
    {
     "name": "stdout",
     "output_type": "stream",
     "text": [
      "normal: -sin(x)*sin(y) + cos(x)*cos(y)\n",
      "simplificada: cos(x + y)\n",
      "expandida: -sin(x)*sin(y) + cos(x)*cos(y)\n",
      "serie de taylor de orden 5, al rededor de 0 en la variable t : cos(y) - x*sin(y) - x**2*cos(y)/2 + x**3*sin(y)/6 + x**4*cos(y)/24 + O(x**5)\n"
     ]
    },
    {
     "data": {
      "text/latex": [
       "$\\displaystyle \\sin{\\left(x_{1} \\right)} \\cos{\\left(y_{1} \\right)} + \\sin{\\left(y_{1} \\right)} \\cos{\\left(x_{1} \\right)}$"
      ],
      "text/plain": [
       "sin(x1)*cos(y1) + sin(y1)*cos(x1)"
      ]
     },
     "execution_count": 26,
     "metadata": {},
     "output_type": "execute_result"
    }
   ],
   "source": [
    "#funcion -sin(x)*sin(y) + cos(x)*cos(y)\n",
    "x, y = symbols('x y')\n",
    "f = -sin(x)*sin(y) + cos(x)*cos(y)\n",
    "\n",
    "print(\"normal:\",f)\n",
    "print(\"simplificada:\",simplify(f))\n",
    "print(\"expandida:\", expand(f))\n",
    "\n",
    "print(\"serie de taylor de orden 5, al rededor de 0 en la variable t :\",f.series(x,0,5)) #ejemplo de serie de taylor\n",
    "\n",
    "#ejemplo para otra funcion\n",
    "x1, y1 = symbols('x1 y1')\n",
    "expand(sin(x1+y1), trig=True) # con un hint, expande la funcion con propiedades trigonometricas, en este caso usa la propiedad sin(x+y)=sin(x)cos(y),etc\n",
    "\n",
    "\n"
   ]
  },
  {
   "cell_type": "markdown",
   "id": "169632f0-f0b6-41bf-b346-6ed6486db62d",
   "metadata": {},
   "source": [
    "<div style=\"font-family: Arial, sans-serif; font-size: 24px; font-weight: bold;\">\n",
    "    SEGUNDA SECCIÓN. ÁLGEBRA LINEAL\n",
    "</div>"
   ]
  },
  {
   "cell_type": "markdown",
   "id": "21291003-3bdd-473d-ac51-8c8e6c73ea57",
   "metadata": {},
   "source": [
    "\n",
    "SISTEMA DE ECUACIONES LINEALES. \n",
    "\n",
    "Resolvemos x con\n",
    "$$\n",
    "\\begin{aligned}\n",
    "    &Ax = b \\\\\n",
    "\\end{aligned}\n",
    "$$\n",
    "tiene solucuón unica si\n",
    "$$\n",
    "\\begin{aligned}\n",
    "    &detA ≠ 0 \\\\\n",
    "\\end{aligned}\n",
    "$$\n",
    "Hay varios métodos para solucionar sistema de ecuaciones, la que se usará es la Gauss \n",
    "\n",
    "---\n",
    "CONDICIONES DE SINGULARIDAD DE LA MATRIZ(determinar la singularidas)\n",
    "\n",
    "-Criterio\n",
    "$$\n",
    "\\begin{aligned}\n",
    "    &detA<<||A|| \\\\\n",
    "\\end{aligned}\n",
    "$$\n",
    "\n",
    "la norma es la raíz cuadrada de la suma de los cuadrados de todos los elementos de la matriz.\n",
    "$$\n",
    "\\| \\mathbf{A} \\|_e = \\sqrt{\\sum_{i=1}^{n} \\sum_{j=1}^{n} |A_{ij}|^2}\n",
    "$$\n",
    "\n",
    "\n",
    "\n",
    "\n",
    "-Número de condición de matriz\n",
    "indica cuánto puede cambiar la solución si hay pequeños cambios en los coeficientes de la matriz o el vector constante\n",
    "\n",
    "\n",
    "$$\n",
    "\\begin{aligned}\n",
    "    &con(A) = ||A||||A^-1|| \\\\\n",
    "\\end{aligned}\n",
    "$$\n",
    "\n",
    "---\n",
    "SISTEMAS LINEALES\n",
    "-Método de eliminación de Gauss\n",
    "\n",
    "tiene dos fases:\n",
    "\n",
    "+fase de eliminación \n",
    "\n",
    "+fase de sustitución\n",
    "Ej.\n",
    "\n",
    "$$\n",
    "\\begin{aligned}\n",
    "    & 4x_1 - 2x_2 + x_3 = 11 \\\\\n",
    "    & -2x_1 + 4x_2 - 2x_3 = -16  \\\\\n",
    "    & x_1 - 2x_2 + 4x_3 = 17\n",
    "\\end{aligned}\n",
    "$$\n",
    "+Eliminar x_1\n",
    "escogemos primero como pivote (ec1) y multiplicandola por un numero y restarta a (ec2) y (ec3) que haga eliminar a x_1 de estas\n",
    "\n",
    "multiplicamos (ec1) por -1/2 y restando a (ec2)\n",
    "$$\n",
    "\\begin{aligned}\n",
    "    & (-1/2)(4x_1 - 2x_2 + x_3) = 11(-1/2)\n",
    "\\end{aligned}\n",
    "$$\n",
    "\n",
    "$$\n",
    "\\begin{aligned}\n",
    "    & -2x_1 + x_2 - 1/2x_3 = -11/2\n",
    "\\end{aligned}\n",
    "$$\n",
    "restarle a (ec2), esta pivote\n",
    "$$\n",
    "\\begin{aligned}\n",
    "    & (-2x_1 + 4x_2 - 2x_3 = -16)  \\\\\n",
    "    & -(-2x_1 + x_2 - 1/2x_3 = -11/2)\n",
    "\\end{aligned}\n",
    "$$\n",
    "\n",
    "queda:\n",
    "$$\n",
    "\\begin{aligned}\n",
    "    & 4x_1 - 2x_2 + x_3 = 11 \\\\\n",
    "    &        3x_2 - 3/2x_3 = -21/2  \\\\\n",
    "    & x_1 - 2x_2 + 4x_3 = 17\n",
    "\\end{aligned}\n",
    "$$\n",
    "para la (ec3) multiplicamos nuestra pivote (ec1) por 1/4 y se la restamos a (ec2)\n",
    "\n",
    "$$\n",
    "\\begin{aligned}\n",
    "    & 4x_1 - 2x_2 + x_3 = 11 \\\\\n",
    "    &        3x_2 - 3/2x_3 = -21/2  \\\\\n",
    "    &     - 3/2x_2 + 15/4x_3 = 14.25\n",
    "\\end{aligned}\n",
    "$$\n",
    "+Eliminar x_2\n",
    "ahora escogemos la (ec2) como pivote, la multiplicamos por un numero para eliminar x_2 en (ec2) y (ec3)\n",
    "\n",
    "al hacer esto obtenemos:\n",
    "$$\n",
    "\\begin{aligned}\n",
    "    & 4x_1 - 2x_2 + x_3 = 11 \\\\\n",
    "    &      3x_2 - 3/2x_3 = -21/2  \\\\\n",
    "    &      3x_3 = 9\n",
    "\\end{aligned}\n",
    "$$\n",
    "teniendo esta forma, hacemos sutitución hacia atrás nos queda \n",
    "$$\n",
    "\\begin{aligned}\n",
    "    & x_1=1 , x_2= -2, x_3= 3\n",
    "\\end{aligned}\n",
    "$$\n",
    "\n",
    "---\n",
    "METODO DE GAUSS EN CODIGO\n",
    "\n",
    "+Fase de Eliminación\n",
    "\n",
    "Imagina que durante esta fase los primeros \\( k \\) renglones de \\( A \\) ya se transformaron a una forma triangular superior.\n",
    "\n",
    "En este momento, **la ecuación k-ésima es la pivote** y las ecuaciones debajo de ella faltan de transformarse.\n",
    "\n",
    "\n",
    "Por ejemplo, en la **ecuación i-ésima** queremos eliminar el coeficiente \\( A_{ik} \\).  \n",
    "Podemos multiplicar el **renglón pivote** por  \n",
    "\n",
    "$$\n",
    "\\lambda = \\frac{A_{ik}}{A_{kk}}\n",
    "$$\n",
    "\n",
    "y restarlo al **renglón i-ésimo**.\n",
    "\n",
    "Podemos resumir los cambios que haremos en el **i-ésimo** renglón así:\n",
    "\n",
    "$$\n",
    "A_{ij} \\leftarrow A_{ij} - \\lambda A_{kj}, \\quad \\forall \\quad j = k, k+1, \\dots, n\n",
    "$$\n",
    "\n",
    "$$\n",
    "b_i \\leftarrow b_i - \\lambda b_k\n",
    "$$\n",
    "\n",
    "Si queremos transformar la matriz completa, escogemos el **renglón pivote** cambiando  \n",
    "\\( k = 1,2,..., n-1 \\)  \n",
    "y escogemos el **renglón a transformar** cambiando  \n",
    "\\( i = k+1, k+2,..., n \\).\n",
    "\n",
    "+Fase de eliminación backward\n",
    "\n",
    "Después de la eliminación de Gauss, la matriz de coeficientes aumentada tiene la forma:\n",
    "\n",
    "\n",
    "\n",
    "La última ecuación \\( A_{nn} x_n = b_n \\) se resuelve primero para tener  \n",
    "\n",
    "$$\n",
    "x_n = \\frac{b_n}{A_{nn}}\n",
    "$$\n",
    "\n",
    "Si seguimos sustituyendo hacia atrás y usamos \\( x_n \\) para encontrar \\( x_{n-1}, x_{n-2}, \\dots, x_k \\) a partir de la **k-ésima ecuación**,  \n",
    "\n",
    "$$\n",
    "A_{kk} x_k + A_{k,k+1} x_{k+1} + \\dots + A_{kn} x_n = b_k, \\tag{1}\n",
    "$$\n",
    "\n",
    "la solución será  \n",
    "\n",
    "$$\n",
    "x_k = \\left( b_k - \\sum_{j=k+1}^{n} A_{kj} x_j \\right) \\frac{1}{A_{kk}}, \\quad k = n-1, n-2, \\dots, 1. \\tag{2}\n",
    "$$\n",
    "\n",
    "<div style=\"font-family: Arial, sans-serif; font-size: 18px; font-weight: bold;\">\n",
    "    Algoritmo eliminación de Gauss\n",
    "</div>\n"
   ]
  },
  {
   "cell_type": "code",
   "execution_count": 5,
   "id": "e6f8898c-c68c-46c0-854f-43da29b5b234",
   "metadata": {},
   "outputs": [
    {
     "name": "stdout",
     "output_type": "stream",
     "text": [
      "La matriz aumentada es :\n",
      " [[ 1.  0. -3. -2.]\n",
      " [ 3.  1. -2.  5.]\n",
      " [ 2.  2.  1.  4.]]\n",
      "El siguiente elemento del procedimiento es: \n",
      "[[ 1.  0. -3. -2.]\n",
      " [ 0.  1.  7. 11.]\n",
      " [ 2.  2.  1.  4.]]\n",
      "El siguiente elemento del procedimiento es: \n",
      "[[ 1.  0. -3. -2.]\n",
      " [ 0.  1.  7. 11.]\n",
      " [ 0.  2.  7.  8.]]\n",
      "El siguiente elemento del procedimiento es: \n",
      "[[  1.   0.  -3.  -2.]\n",
      " [  0.   1.   7.  11.]\n",
      " [  0.   0.  -7. -14.]]\n",
      "El vector solución es :\n",
      " [[ 4.]\n",
      " [-3.]\n",
      " [ 2.]]\n"
     ]
    }
   ],
   "source": [
    "a = np.array([[1.0, 0.0, -3.0], [3.0, 1.0, -2.0], [2.0, 2.0, 1.0]])\n",
    "b = np.array([[-2.0], [5.0], [4.0]])\n",
    "\n",
    "matriz_aumentada = np.concatenate((a,b), axis=1, dtype=float)\n",
    "print('La matriz aumentada es :\\n', matriz_aumentada)\n",
    "\n",
    "def gaussElimin(a,b):\n",
    "  # Fase de eliminacion\n",
    "  for k in range(0,n-1):\n",
    "    for i in range(k+1,n):\n",
    "      if matriz_aumentada[i,k] != 0.0:\n",
    "        lam = matriz_aumentada[i,k]/matriz_aumentada[k,k]\n",
    "        matriz_aumentada[i] = matriz_aumentada[i] - lam*matriz_aumentada[k]\n",
    "        b[i] = b[i] - lam*b[k]\n",
    "        print(f'El siguiente elemento del procedimiento es: {'\\n'}{matriz_aumentada}')\n",
    "  # Fase de sustitucion hacia atras\n",
    "  for k in range(n-1,-1,-1):\n",
    "    b[k] = (b[k] - np.dot(matriz_aumentada[k,k+1:n],b[k+1:n]))/matriz_aumentada[k,k]\n",
    "  return b\n",
    "\n",
    "\n",
    "print('El vector solución es :\\n',gaussElimin(a,b))"
   ]
  },
  {
   "cell_type": "markdown",
   "id": "1d03d8c8-523f-491b-8154-bd313d721841",
   "metadata": {},
   "source": [
    "<div style=\"font-family: Arial, sans-serif; font-size: 15px; font-weight: bold;\">\n",
    "    ECUACIONES DE CINEMATICA (LINEAL)\n",
    "</div>\n",
    "\n",
    "Movimiento con aceleración constante\n",
    "\n",
    "$$\n",
    "\\begin{aligned}\n",
    "    &v_f = v_i + at \\\\  \n",
    "    &x_f = x_i + v_i t + \\frac{1}{2} a t^2 \\\\  \n",
    "    &v_f^2 = v_i^2 + 2a(x_f - x_i) \\\\   \n",
    "    &x_f - x_i = \\frac{(v_i + v_f)}{2} t    \n",
    "\\end{aligned}\n",
    "$$\n",
    "\n",
    "<div style=\"font-family: Arial, sans-serif; font-size: 15px; font-weight: bold;\">\n",
    "    ECUACIONES DE CINEMÁTICA (ANGULAR)\n",
    "</div>\n",
    "\n",
    "Movimiento con aceleración angular constante\n",
    "\n",
    "$$\n",
    "\\begin{aligned}\n",
    "    &\\omega_f = \\omega_i + \\alpha t \\\\\n",
    "    &\\theta_f = \\theta_i + \\omega_i t + \\frac{1}{2} \\alpha t^2 \\\\\n",
    "    &\\omega_f^2 = \\omega_i^2 + 2\\alpha (\\theta_f - \\theta_i) \\\\\n",
    "    &\\theta_f - \\theta_i = \\frac{(\\omega_i + \\omega_f)}{2} t\n",
    "\\end{aligned}\n",
    "$$\n",
    "\n",
    "donde:\n",
    "- \\( \\theta_i \\) y \\( \\theta_f \\) son la posición angular inicial y final, respectivamente.\n",
    "- \\( \\omega_i \\) y \\( \\omega_f \\) son la velocidad angular inicial y final, respectivamente.\n",
    "- \\( \\alpha \\) es la aceleración angular.\n",
    "- \\( t \\) es el tiempo.\n"
   ]
  },
  {
   "cell_type": "markdown",
   "id": "885fad61-0693-4a58-9ae3-f689be28b03c",
   "metadata": {},
   "source": [
    "---\n",
    "Ejercicio1.\n",
    "trabajaremos con \n",
    "\n",
    "$$\n",
    "\\begin{aligned}\n",
    "    &\\theta_f = \\theta_i + \\omega_i t + \\frac{1}{2} \\alpha t^2 \\\\\n",
    "\\end{aligned}\n",
    "$$\n",
    "\n",
    "si tenemos las ecuaciones lineales siguientes\n",
    "\n",
    "$$\n",
    "\\begin{aligned}\n",
    "    &9- 2t + 5t^2 = 2 \\\\\n",
    "    &9 +4t - 5t^2 = 5 \\\\\n",
    "    &2-9t - 3t^2= 0\n",
    "\\end{aligned}\n",
    "$$\n",
    "\n",
    "estas ecuaciones representan un movimiento angular de algun cosa, tenemos diferentes valores en thetas y alfa y v, menos en t, que es lo que buscaremos\n",
    "\n",
    "de forma matricial\n",
    "\n",
    "\\begin{aligned}\n",
    "&\\begin{pmatrix} \n",
    "9 & -2 & 5 \\\\ \n",
    "8 & 4 & -5 \\\\ \n",
    "2 & -9 & -3\n",
    "\\end{pmatrix} \n",
    "\\begin{pmatrix} \n",
    "t_1 \\\\ \n",
    "t_2 \\\\ \n",
    "t_3\n",
    "\\end{pmatrix} = \n",
    "\\begin{pmatrix} \n",
    "2 \\\\ \n",
    "5 \\\\ \n",
    "0\n",
    "\\end{pmatrix}\n",
    "\\end{aligned}\n",
    "\n",
    "queremos conocer el tiempo en el que sucede esto, resolvemos para la matriz ([t1],[t2],[t3])\n",
    "es :\\n',gaussElimin(a,b))"
   ]
  },
  {
   "cell_type": "code",
   "execution_count": 6,
   "id": "1e4aecde-7d3b-49cf-bcaa-888d43b907cd",
   "metadata": {},
   "outputs": [
    {
     "name": "stdout",
     "output_type": "stream",
     "text": [
      "El vector solución es :\n",
      " [[ 0.39213603]\n",
      " [ 0.16684378]\n",
      " [-0.23910733]]\n"
     ]
    }
   ],
   "source": [
    "a = np.array([[9.0,-2.0,5.0], [8.0,4.0,-5.0], [2.0,-9.0,-3.0]])\n",
    "b = np.array([[2.0], [5.0], [0.0]])\n",
    "\n",
    "matriz_aumentada = np.concatenate((a,b), axis=1, dtype=float)\n",
    "\n",
    "def gaussElimin(a,b):\n",
    "  for k in range(0,n-1):\n",
    "    for i in range(k+1,n):\n",
    "      if matriz_aumentada[i,k] != 0.0:\n",
    "        lam = matriz_aumentada[i,k]/matriz_aumentada[k,k]\n",
    "        matriz_aumentada[i] = matriz_aumentada[i] - lam*matriz_aumentada[k]\n",
    "        b[i] = b[i] - lam*b[k]\n",
    "       \n",
    "  for k in range(n-1,-1,-1):\n",
    "    b[k] = (b[k] - np.dot(matriz_aumentada[k,k+1:n],b[k+1:n]))/matriz_aumentada[k,k]\n",
    "  return b\n",
    "\n",
    "\n",
    "print('El vector solución es :\\n',gaussElimin(a,b))"
   ]
  },
  {
   "cell_type": "markdown",
   "id": "55f1aa41-209f-4c06-80a7-5e31906440a9",
   "metadata": {},
   "source": [
    "Ejercicio 2.  Un coche se mueve en línea recta y parte del reposo. Se sabe que el coche sigue la ecuación:  \n",
    "\n",
    "$$\n",
    "\\begin{aligned}\n",
    "    &x_2 = x_1 + v_1 t + \\frac{1}{2} a t^2\n",
    "\\end{aligned}\n",
    "$$\n",
    "\n",
    "Datos iniciales:\n",
    "- \\( x_1 = 0 \\)\n",
    "- \\( t = 5 \\)\n",
    "- \\( x_2 = 50 \\)\n",
    "- \\( v_1 = 0 \\)\n",
    "\n",
    "Nuestra ecuación en los primeros 5 segundos sería:\n",
    "\n",
    "$$\n",
    "\\begin{aligned}\n",
    "    50 = \\frac{1}{2} a (5)^2\n",
    "\\end{aligned}\n",
    "$$\n",
    "\n",
    "Datos en los siguientes 3 segundos:\n",
    "- \\( x_1 = 50 \\)\n",
    "- \\( t = 3 \\)\n",
    "- \\( a = 0 \\)\n",
    "\n",
    "Nuestra ecuación para la velocidad final es:\n",
    "\n",
    "$$\n",
    "\\begin{aligned}\n",
    "    v_2 = a(5)\n",
    "\\end{aligned}\n",
    "$$\n",
    "\n",
    "Última ecuación:\n",
    "\n",
    "$$\n",
    "\\begin{aligned}\n",
    "    x_f = v_2 (2) - \\frac{1}{2} \\left( -\\frac{v_f}{2} \\right) (2)^2\n",
    "\\end{aligned}\n",
    "$$\n",
    "\n",
    "Reorganizando:\n",
    "\n",
    "$$\n",
    "\\begin{aligned}\n",
    "    x_f = 3 v_2\n",
    "\\end{aligned}\n",
    "$$\n",
    "\n",
    "Sistema de ecuaciones lineales:\n",
    "\n",
    "$$\n",
    "\\begin{aligned}\n",
    "    &25a = 100 \\\\\n",
    "    &v_f - 5a = 0 \\\\\n",
    "    &x_2 - 3v_2 = 0\n",
    "\\end{aligned}\n",
    "$$\n",
    "\n",
    "De forma matricial:\n",
    "\n",
    "$$\n",
    "\\begin{aligned}\n",
    "    &\\begin{pmatrix} \n",
    "    0 & 0 & 25 \\\\ \n",
    "    0 & 1 & -5 \\\\ \n",
    "    1 & -3 & 0\n",
    "    \\end{pmatrix} \n",
    "    \\begin{pmatrix} \n",
    "    x_2 \\\\ \n",
    "    v_2 \\\\ \n",
    "    a\n",
    "    \\end{pmatrix} = \n",
    "    \\begin{pmatrix} \n",
    "    0 \\\\ \n",
    "    0 \\\\ \n",
    "    100\n",
    "    \\end{pmatrix}\n",
    "\\end{aligned}\n",
    "$$\n",
    "\n"
   ]
  },
  {
   "cell_type": "code",
   "execution_count": 7,
   "id": "955c937e-dc95-4a5a-9958-d9499b3a92e0",
   "metadata": {},
   "outputs": [
    {
     "name": "stdout",
     "output_type": "stream",
     "text": [
      "El vector solución es :\n",
      " [[nan]\n",
      " [nan]\n",
      " [nan]]\n"
     ]
    },
    {
     "name": "stderr",
     "output_type": "stream",
     "text": [
      "/tmp/ipykernel_3540/1680863420.py:12: RuntimeWarning: divide by zero encountered in scalar divide\n",
      "  lam = matriz_aumentada[i,k]/matriz_aumentada[k,k]\n",
      "/tmp/ipykernel_3540/1680863420.py:13: RuntimeWarning: invalid value encountered in multiply\n",
      "  matriz_aumentada[i] = matriz_aumentada[i] - lam*matriz_aumentada[k]\n",
      "/tmp/ipykernel_3540/1680863420.py:14: RuntimeWarning: invalid value encountered in multiply\n",
      "  b[i] = b[i] - lam*b[k]\n"
     ]
    }
   ],
   "source": [
    "a = np.array([[0.0,0.0,25.0], [0.0,1.0,-5.0], [1.0,-3.0,0.0]])\n",
    "\n",
    "b = np.array([[0.0], [0.0], [100.0]])\n",
    "\n",
    "matriz_aumentada = np.concatenate((a,b), axis=1, dtype=float)\n",
    "\n",
    "def gaussElimin(a,b):\n",
    "  \n",
    "  for k in range(0,n-1):\n",
    "    for i in range(k+1,n):\n",
    "      if matriz_aumentada[i,k] != 0.0:\n",
    "        lam = matriz_aumentada[i,k]/matriz_aumentada[k,k]\n",
    "        matriz_aumentada[i] = matriz_aumentada[i] - lam*matriz_aumentada[k]\n",
    "        b[i] = b[i] - lam*b[k]\n",
    "\n",
    "  for k in range(n-1,-1,-1):\n",
    "    b[k] = (b[k] - np.dot(matriz_aumentada[k,k+1:n],b[k+1:n]))/matriz_aumentada[k,k]\n",
    "  return b\n",
    "\n",
    "print('El vector solución es :\\n',gaussElimin(a,b))"
   ]
  },
  {
   "cell_type": "markdown",
   "id": "9a75843d-8806-4cae-bc38-41d136cb59c3",
   "metadata": {},
   "source": [
    "<div style=\"font-family: Arial, sans-serif; font-size: 24px; font-weight: bold;\">\n",
    "    TERCERA SECCIÓN. AJUSTE E INTERPOLACIÓN\n",
    "</div>"
   ]
  },
  {
   "cell_type": "markdown",
   "id": "00a4b15a-2945-4b80-a224-c51f7702ed8f",
   "metadata": {},
   "source": [
    "INTERPOLACIÓN Y AJUSTE DE CURVAS\n",
    "\n",
    "dados n+1 datos (xi,yi) con i=0,1,...,n, estima y(x), cuando tenemos que analizar datos de observaciones experimentales etc.\n",
    "\n",
    "**Interpolación:** construir una curva que pase por los datos. Entonces estamos asumiendo que los datos son precisos.\n",
    "\n",
    "**Ajuste a una curva:** construir una curva que aproxime los datos. Entonces estamos asumiendo que los datos tienen ruido (por ejemplo el debido a los errores en la medición). La curva no necesariamente pasa por los datos.\n"
   ]
  },
  {
   "cell_type": "code",
   "execution_count": 9,
   "id": "5a7f3aad-ed81-4757-8c69-f9495faed629",
   "metadata": {},
   "outputs": [
    {
     "data": {
      "image/png": "[encoded data removed]",
      "text/plain": [
       "<Figure size 640x480 with 1 Axes>"
      ]
     },
     "metadata": {},
     "output_type": "display_data"
    }
   ],
   "source": [
    "import matplotlib.pyplot as plt\n",
    "from scipy.interpolate import interp1d\n",
    "from scipy.optimize import curve_fit\n",
    "\n",
    "# Datos de ejemplo\n",
    "x = np.array([0, 1, 2, 3, 4, 5])\n",
    "y = np.array([0, 0.8, 0.9, 0.1, -0.8, -1])\n",
    "\n",
    "# INTERPOLACIÓN LINEAL\n",
    "interpolacion_lineal = interp1d(x, y, kind=\"linear\")\n",
    "x_interpolado = np.linspace(0, 5, 100)\n",
    "y_interpolado_lineal = interpolacion_lineal(x_interpolado)#calcula los valores interpolados de mi array en x\n",
    "\n",
    "\n",
    "# AJUSTE A UNA CURVA(se usa función sinusoidal por este ejemplo de datos periódicos)\n",
    "\n",
    "def func_seno(x, a, b, c):\n",
    "    return a * np.sin(b * x + c)\n",
    "\n",
    "\n",
    "parametros, _ = curve_fit(func_seno, x, y) #ajusta mi función a los datos x y y\n",
    "y_ajustado = func_seno(x_interpolado, *parametros) #calcula los valores dela funcion ajustada en los puntos interpolados\n",
    "\n",
    "# Graficar los datos originales\n",
    "plt.scatter(x, y, label=\"Datos Originales\", color=\"red\")\n",
    "\n",
    "# Graficar la interpolación lineal\n",
    "plt.plot(\n",
    "    x_interpolado, y_interpolado_lineal, label=\"Interpolación Lineal\", linestyle=\"--\"\n",
    ")\n",
    "\n",
    "# Graficar el ajuste de curva\n",
    "plt.plot(x_interpolado, y_ajustado, label=\"Ajuste de Curva (Seno)\", linestyle=\"-\")\n",
    "\n",
    "\n",
    "plt.xlabel(\"x\")\n",
    "plt.ylabel(\"y\")\n",
    "plt.title(\"Interpolación y Ajuste de Curva\")\n",
    "plt.legend()\n",
    "plt.grid(True)\n",
    "plt.show()"
   ]
  },
  {
   "cell_type": "markdown",
   "id": "e1a8aefe-a4e4-42e3-b447-42639b29275e",
   "metadata": {},
   "source": [
    "---\n",
    "MÉTODO DE LAGRANGE\n",
    "\n",
    "Se busca un polinomio que pase por cada uno de los puntos de la función, a partir de las diferencias divididas\n",
    "\n",
    "Se propone un polinomio de la forma:\n",
    "\n",
    "$$\n",
    "P_n(x) = \\sum_{i=0}^{n} A_i (x - x_1)(x - x_2) \\cdots (x - x_{n-1})\n",
    "$$\n",
    "\n",
    "que es un polinomio de grado \\( n-1 \\) y los coeficientes \\( A_i \\) deben determinarse de tal manera que el polinomio pase por todos y cada uno de los puntos de la función tabular.\n",
    "\n",
    "Evaluando en \\( x = x_0 \\) y despejando \\( A_0 \\):\n",
    "\n",
    "$$\n",
    "A_0 = \\frac{P_0}{(x_0 - x_1)(x_0 - x_2) \\cdots (x_0 - x_{n-1})}\n",
    "$$\n",
    "\n",
    "así hasta el punto \\( x = x_n \\):\n",
    "\n",
    "$$\n",
    "A_n = \\frac{P_n}{(x_n - x_1)(x_n - x_2) \\cdots (x_n - x_{n-1})}\n",
    "$$\n",
    "\n",
    "y entonces el polinomio \\( P_n(x) \\) es:\n",
    "\n",
    "$$\n",
    "P_n(x) = \\frac{P_0 (x - x_2) \\cdots (x - x_{n-1})}{(x_0 - x_1)(x_0 - x_2) \\cdots (x_0 - x_{n-1})} + \\cdots + \\frac{P_n (x - x_2) \\cdots (x - x_{n-1})}{(x_n - x_1)(x_n - x_2) \\cdots (x_n - x_{n-1})}\n",
    "$$\n",
    "\n",
    "---\n",
    "que es la expresión de **Lagrange**:\n",
    "\n",
    "$$\n",
    "P_n(x) = \\sum_{i=0}^{n} y_i \\ell_i(x) = \\sum_{i=0}^{n} y_i \\prod_{j(\\neq i)=0}^{n} \\frac{x - x_j}{x_i - x_j}, \\quad i = 0, 1, \\dots, n.\n",
    "$$\n",
    "\n",
    "---\n",
    "donde li(x)  son **funciones cardinales**.\n",
    "\n",
    "Si ( n = 1 ), el polinomio de interpolación es una recta:\n",
    "\n",
    "$$\n",
    "P_1(x) = y_0 \\ell_0(x) + y_1 \\ell_1(x)\n",
    "$$\n",
    "\n",
    "donde las funciones de base de Lagrange son:\n",
    "\n",
    "$$\n",
    "\\ell_0(x) = \\frac{x - x_1}{x_0 - x_1},\n",
    "$$\n",
    "\n",
    "$$\n",
    "\\ell_1(x) = \\frac{x - x_0}{x_1 - x_0}.\n",
    "$$\n",
    "\n",
    "\n",
    "Si ( n = 2 ), el polinomio de interpolación es una parábola:\n",
    "\n",
    "$$\n",
    "P_2(x) = y_0 \\ell_0(x) + y_1 \\ell_1(x) + y_2 \\ell_2(x)\n",
    "$$\n",
    "\n",
    "donde las funciones de base de Lagrange son:\n",
    "\n",
    "$$\n",
    "\\ell_0(x) = \\frac{(x - x_1)(x - x_2)}{(x_0 - x_1)(x_0 - x_2)},\n",
    "$$\n",
    "\n",
    "$$\n",
    "\\ell_1(x) = \\frac{(x - x_0)(x - x_2)}{(x_1 - x_0)(x_1 - x_2)},\n",
    "$$\n",
    "\n",
    "$$\n",
    "\\ell_2(x) = \\frac{(x - x_0)(x - x_1)}{(x_2 - x_0)(x_2 - x_1)}.\n",
    "$$\n",
    "\n",
    "---\n",
    "\n",
    "Las funciones cardinales tienen la propiedad:\n",
    "\n",
    "$$\n",
    "\\ell_i(x_j) =\n",
    "\\begin{cases} \n",
    "0 & \\text{si } i \\neq j, \\\\\n",
    "1 & \\text{si } i = j.\n",
    "\\end{cases}\n",
    "$$\n",
    "\n",
    "Es decir:\n",
    "\n",
    "$$\n",
    "\\ell_i(x_j) = \\delta_{ij}.\n",
    "$$\n",
    "\n",
    "\n",
    "---\n",
    "\n",
    "El error en la interpolación con polinomios se puede expresar como:\n",
    "\n",
    "$$\n",
    "f(x) - P_n(x) = \\frac{(x - x_0)(x - x_1) \\cdots (x - x_n)}{(n+1)!} f^{(n+1)}(\\xi),\n",
    "$$\n",
    "\n",
    "donde (E pertenece a (x_0,x_n)).  \n",
    "\n",
    "Esto indica que **cuanto más lejos esté \\( x \\) de los puntos dados, mayor será el error**.\n",
    "\n",
    "\n",
    "\n",
    "---\n",
    "EJEMPLO 1: Método de Lagrange\n",
    "\n",
    "El método de Lagrange también puede ser utilizada para datos que no están igualmente espaciados.\n",
    "\n",
    "Los polinomios básicos de Lagrange l_i(x) se definen como:\n",
    "\n",
    "$$\n",
    "\\ell_i(x) = \\prod_{\\substack{0 \\leq j \\leq n \\\\ j \\neq i}} \\frac{x - x_j}{x_i - x_j}\n",
    "$$\n",
    "\n",
    "Dado \\( x = [0, 20, 40, 60] \\), calculamos las funciones base:\n",
    "\n",
    "$$\n",
    "\\ell_0(x) = \\frac{(x - 20)(x - 40)(x - 60)}{(0 - 20)(0 - 40)(0 - 60)}\n",
    "$$\n",
    "\n",
    "$$\n",
    "\\ell_1(x) = \\frac{(x - 0)(x - 40)(x - 60)}{(20 - 0)(20 - 40)(20 - 60)}\n",
    "$$\n",
    "\n",
    "$$\n",
    "\\ell_2(x) = \\frac{(x - 0)(x - 20)(x - 60)}{(40 - 0)(40 - 20)(40 - 60)}\n",
    "$$\n",
    "\n",
    "$$\n",
    "\\ell_3(x) = \\frac{(x - 0)(x - 20)(x - 40)}{(60 - 0)(60 - 20)(60 - 40)}\n",
    "$$\n",
    "\n",
    "Cálculo de l_i(10):\n",
    "\n",
    "$$\n",
    "\\ell_0(10) = \\frac{(-10)(-30)(-50)}{(-20)(-40)(-60)} = -\\frac{5}{16}\n",
    "$$\n",
    "\n",
    "$$\n",
    "\\ell_1(10) = \\frac{(10)(-30)(-50)}{(20)(-20)(-40)} = \\frac{15}{16}\n",
    "$$\n",
    "\n",
    "$$\n",
    "\\ell_2(10) = \\frac{(10)(-10)(-50)}{(40)(20)(-20)} = -\\frac{5}{16}\n",
    "$$\n",
    "\n",
    "$$\n",
    "\\ell_3(10) = \\frac{(10)(-10)(-30)}{(60)(40)(20)} = \\frac{1}{16}\n",
    "$$\n",
    "\n",
    "Cálculo del valor interpolado y_p:\n",
    "\n",
    "$$\n",
    "y_p = \\sum_{i=0}^{3} y_i \\ell_i(10)\n",
    "$$\n",
    "\n",
    "Sustituyendo los valores:\n",
    "\n",
    "$$\n",
    "y_p = 26.0 \\times \\left(-\\frac{5}{16}\\right) + 48.6 \\times \\frac{15}{16} + 71.2 \\times \\left(-\\frac{5}{16}\\right) + 71.2 \\times \\frac{1}{16}\n",
    "$$\n",
    "\n",
    "$$\n",
    "y_p = 26.0 \\times \\left(-\\frac{5}{16}\\right) + 48.6 \\times \\left(\\frac{15}{16}\\right) + 71.2 \\times \\left(-\\frac{5}{16}\\right) + 71.2 \\times \\left(\\frac{1}{16}\\right)\n",
    "$$\n",
    "\n",
    "$$\n",
    "y_p = -8.125 + 45.5625 - 22.25 + 4.45\n",
    "$$\n",
    "\n",
    "$$\n",
    "y_p = 38.9\n",
    "$$\n",
    "\n",
    "El valor interpolado en \\( x = 10 \\) es **\\( y_p = 38.9 \\)**.\n",
    "\n",
    "<div style=\"font-family: Arial, sans-serif; font-size: 18px; font-weight: bold;\">\n",
    "    Algoritmo del método de Lagrange\n",
    "</div>\n",
    "\n"
   ]
  },
  {
   "cell_type": "code",
   "execution_count": 10,
   "id": "e5231286-bca3-46b5-b2e7-1c3cb2098740",
   "metadata": {},
   "outputs": [
    {
     "data": {
      "image/png": "[encoded data removed]",
      "text/plain": [
       "<Figure size 640x480 with 1 Axes>"
      ]
     },
     "metadata": {},
     "output_type": "display_data"
    }
   ],
   "source": [
    "# Definir los puntos\n",
    "x = [0, 20, 40, 60]\n",
    "y = [26.0, 48.6, 61.6, 71.2]\n",
    "m = len(x)\n",
    "n = m - 1\n",
    "\n",
    "# Función para calcular los polinomios básicos de Lagrange\n",
    "def lagrange_basis(xp, x_points, i):\n",
    "    L_i = 1\n",
    "    for j in range(len(x_points)):\n",
    "        if j != i:\n",
    "            L_i *= (xp - x_points[j]) / (x_points[i] - x_points[j])\n",
    "    return L_i\n",
    "\n",
    "\n",
    "# Crear puntos para la interpolación\n",
    "x_interpolado = np.linspace(min(x), max(x), 100)\n",
    "\n",
    "# Graficar los polinomios básicos de Lagrange\n",
    "for i in range(n + 1):\n",
    "    L_values = [lagrange_basis(x_val, x, i) for x_val in x_interpolado]\n",
    "    plt.plot(x_interpolado, L_values, label=f\"L{i}(x)\")\n",
    "# Añadir etiquetas y leyenda\n",
    "plt.xlabel(\"x\")\n",
    "plt.ylabel(\"y\")\n",
    "plt.title(\"Polinomio de Interpolación de Lagrange\")\n",
    "plt.legend()\n",
    "plt.grid(True)\n",
    "\n",
    "# Mostrar la gráfica\n",
    "plt.show()"
   ]
  },
  {
   "cell_type": "markdown",
   "id": "34225a7d-daf0-45ed-936c-973a93919e9d",
   "metadata": {},
   "source": [
    "EJEMPLO 2.\n",
    "\n",
    "usando el método de interpolación de Lagrange\n",
    "\n",
    "1. código visto en clase\n",
    "\n",
    "2. función scipy\n",
    "\n",
    "encuentre el valor de relación de expansión correspondiente a un peso de 5.5 libras dentro de una lista de valores de tensiones de prueba:\n",
    "| Peso(lb) | Expansión |\n",
    "|-----------|-----------|\n",
    "| 2.4 | 0.101 |\n",
    "| 5.1| 0.128 |\n",
    "| 7.0 | 0.241 |\n",
    "| 8.5 | 0.403 |\n",
    "| 9.7 | 0.677 |\n",
    "\n",
    "\n",
    "\n",
    "tenemos diferentes puntos para encontrar nuestro polinomio de Lagrange y queremos conocer un y para cuando x=5.5. Entonces primero encontramos nuestro polinomio y luego lo evaluamos en x=5.5\n",
    "\n",
    "**usaremos tres codigos**"
   ]
  },
  {
   "cell_type": "code",
   "execution_count": 16,
   "id": "e832a452-eaa8-4eb1-a4d9-6e2dc47988da",
   "metadata": {},
   "outputs": [
    {
     "name": "stdin",
     "output_type": "stream",
     "text": [
      "Enter x:  2\n"
     ]
    },
    {
     "name": "stdout",
     "output_type": "stream",
     "text": [
      "For x = 2.0, y = 0.7\n"
     ]
    },
    {
     "data": {
      "image/png": "[encoded data removed]",
      "text/plain": [
       "<Figure size 640x480 with 1 Axes>"
      ]
     },
     "metadata": {},
     "output_type": "display_data"
    },
    {
     "name": "stdout",
     "output_type": "stream",
     "text": [
      "Polinomio de Interpolación de Lagrange:\n",
      "y(x) = (1.87058823529412 - 0.705882352941177*x)*(3.57142857142857 - 1.42857142857143*x)*(4.0 - 1.66666666666667*x)*(7.0 - 3.33333333333333*x) + (3.13181818181818 - 1.18181818181818*x)*(6.25 - 2.5*x)*(8.0 - 3.33333333333334*x)*(3.33333333333333*x - 6.0) + (7.314 - 2.76*x)*(25.0 - 9.99999999999999*x)*(1.66666666666667*x - 3.0)*(3.33333333333334*x - 7.0) + (12.8966666666667 - 4.86666666666667*x)*(1.42857142857143*x - 2.57142857142857)*(2.5*x - 5.25)*(9.99999999999999*x - 24.0) + (1.17647058823529*x - 2.11764705882353)*(1.81818181818182*x - 3.81818181818182)*(4.0*x - 9.6)*(4.73333333333334*x - 11.8333333333333)\n",
      "\n",
      "Polinomio Simplificado:\n",
      "y(x) = -7.20312367371193*x**4 + 64.4192343604109*x**3 - 214.653798489094*x**2 + 315.909826839826*x - 172.636844919786\n"
     ]
    }
   ],
   "source": [
    "import matplotlib.pyplot as plt\n",
    "import sympy as sp\n",
    "\n",
    "\n",
    "def lagrange_1(x_points, y_points, xp):\n",
    "    \"\"\"\n",
    "    Calcula y grafica el polinomio de interpolación de Lagrange.\n",
    "\n",
    "    Parámetros:\n",
    "    x_points (list or array): Puntos en el eje x.\n",
    "    y_points (list or array): Puntos en el eje y.\n",
    "    xp (float): Punto en el que se desea interpolar.\n",
    "\n",
    "    Retorna:\n",
    "    yp (float): Valor interpolado en xp.\n",
    "    \"\"\"\n",
    "    m = len(x_points)\n",
    "    n = m - 1\n",
    "    # Definir la variable simbólica\n",
    "    x = sp.symbols(\"x\")\n",
    "\n",
    "    # Función para calcular los polinomios básicos de Lagrange\n",
    "    def lagrange_basis(xp, x_points, i):\n",
    "        L_i = 1\n",
    "        for j in range(len(x_points)):\n",
    "            if j != i:\n",
    "                L_i *= (xp - x_points[j]) / (x_points[i] - x_points[j])\n",
    "        return L_i\n",
    "\n",
    "    # Función para calcular el polinomio de Lagrange\n",
    "    def lagrange_interpolation(xp, x_points, y_points):\n",
    "        yp = 0\n",
    "        for i in range(len(x_points)):\n",
    "            yp += y_points[i] * lagrange_basis(xp, x_points, i)\n",
    "        return yp\n",
    "\n",
    "    # Calcular el valor interpolado\n",
    "    yp = lagrange_interpolation(xp, x_points, y_points)\n",
    "    print(\"For x = %.1f, y = %.1f\" % (xp, yp))\n",
    "\n",
    "    # Crear puntos para la interpolación\n",
    "    x_interpolado = np.linspace(min(x_points), max(x_points), 100)\n",
    "    y_interpolado = [\n",
    "        lagrange_interpolation(x_val, x_points, y_points) for x_val in x_interpolado\n",
    "    ]\n",
    "\n",
    "    # Graficar los puntos originales\n",
    "    plt.scatter(x_points, y_points, label=\"Puntos Originales\", color=\"red\")\n",
    "\n",
    "    # Graficar el polinomio de interpolación de Lagrange\n",
    "    plt.plot(\n",
    "        x_interpolado, y_interpolado, label=\"Interpolación de Lagrange\", linestyle=\"-\"\n",
    "    )\n",
    "\n",
    "    # Graficar el valor interpolado\n",
    "    plt.scatter(xp, yp, color=\"blue\", zorder=5)\n",
    "    plt.text(xp, yp, f\"({xp:.1f}, {yp:.1f})\", fontsize=12, verticalalignment=\"bottom\")\n",
    "\n",
    "    # Añadir etiquetas y leyenda\n",
    "    plt.xlabel(\"x\")\n",
    "    plt.ylabel(\"y\")\n",
    "    plt.title(\"Polinomio de Interpolación de Lagrange\")\n",
    "    plt.legend()\n",
    "    plt.grid(True)\n",
    "\n",
    "    # Mostrar la gráfica\n",
    "    plt.show()\n",
    "\n",
    "    # Construir el polinomio de interpolación simbólicamente\n",
    "    polinomio = 0\n",
    "    for i in range(len(x_points)):\n",
    "        term = y_points[i]\n",
    "        for j in range(len(x_points)):\n",
    "            if j != i:\n",
    "                term *= (x - x_points[j]) / (x_points[i] - x_points[j])\n",
    "        polinomio += term\n",
    "\n",
    "    # Simplificar el polinomio\n",
    "    polinomio_simplificado = sp.simplify(polinomio)\n",
    "\n",
    "    # Imprimir el polinomio de interpolación\n",
    "    print(\"Polinomio de Interpolación de Lagrange:\")\n",
    "    print(f\"y(x) = {polinomio}\")\n",
    "    print(\"\\nPolinomio Simplificado:\")\n",
    "    print(f\"y(x) = {polinomio_simplificado}\")\n",
    "\n",
    "    return yp\n"
   ]
  },
  {
   "cell_type": "code",
   "execution_count": 22,
   "id": "66d2f93f-303e-49e8-b793-8e5f15cee412",
   "metadata": {},
   "outputs": [
    {
     "name": "stdout",
     "output_type": "stream",
     "text": [
      "        4        3         2\n",
      "-2.441 x + 21.8 x - 72.58 x + 106.9 x - 58.16\n",
      "Para x= 10 y= -8859.44080213933\n"
     ]
    },
    {
     "data": {
      "image/png": "[encoded data removed]",
      "text/plain": [
       "<Figure size 640x480 with 1 Axes>"
      ]
     },
     "metadata": {},
     "output_type": "display_data"
    }
   ],
   "source": [
    "# Método de Lagrange con scipy\n",
    "from scipy.interpolate import lagrange\n",
    "x_points = [2.65, 2.5, 2.4,2.1, 1.8]\n",
    "y_points = [0.71, 0.71, 0.69, 0.65, 0.6]\n",
    "L = lagrange(x_points, y_points)\n",
    "\n",
    "\n",
    "x1 = np.arange(0, 60, 1)\n",
    "xp = 10\n",
    "yp = L(xp)\n",
    "print(L)\n",
    "print(\"Para x=\", xp, \"y=\", yp)\n",
    "# graficar valor interpolado\n",
    "\n",
    "plt.plot(x1, L(x1), label=\"Interpolación\")\n",
    "#plt.plot(x, y, \"o\", label=\"Datos\")\n",
    "# Graficar el valor interpolado\n",
    "plt.scatter(xp, yp, color=\"blue\", zorder=5)\n",
    "plt.text(xp, yp, f\"({xp:.1f}, {yp:.1f})\", fontsize=12, verticalalignment=\"bottom\")\n",
    "\n",
    "\n",
    "plt.legend()\n",
    "plt.grid()\n",
    "plt.show()"
   ]
  },
  {
   "cell_type": "code",
   "execution_count": 11,
   "id": "397d2b68-01bf-4cb2-865f-3faf2551bdfc",
   "metadata": {},
   "outputs": [
    {
     "name": "stdin",
     "output_type": "stream",
     "text": [
      "inserte la altura 2.5\n"
     ]
    },
    {
     "data": {
      "text/plain": [
       "0.7139215614635323"
      ]
     },
     "execution_count": 11,
     "metadata": {},
     "output_type": "execute_result"
    }
   ],
   "source": [
    "import math\n",
    "g=9.81\n",
    "x=float(input(\"inserte la altura\"))\n",
    "t=math.sqrt((2*x)/g)\n",
    "t"
   ]
  },
  {
   "cell_type": "code",
   "execution_count": 20,
   "id": "bce73342-0c85-4f81-8851-0c771c4ea74f",
   "metadata": {},
   "outputs": [
    {
     "name": "stdin",
     "output_type": "stream",
     "text": [
      "Enter x:  2.3\n"
     ]
    },
    {
     "name": "stdout",
     "output_type": "stream",
     "text": [
      "For x = 2.3, y = 0.7\n"
     ]
    },
    {
     "data": {
      "image/png": "[encoded data removed]",
      "text/plain": [
       "<Figure size 640x480 with 1 Axes>"
      ]
     },
     "metadata": {},
     "output_type": "display_data"
    },
    {
     "name": "stdout",
     "output_type": "stream",
     "text": [
      "Polinomio de Interpolación de Lagrange:\n",
      "y(x) = (1.87058823529412 - 0.705882352941177*x)*(3.57142857142857 - 1.42857142857143*x)*(4.0 - 1.66666666666667*x)*(7.0 - 3.33333333333333*x) + (3.13181818181818 - 1.18181818181818*x)*(6.25 - 2.5*x)*(8.0 - 3.33333333333334*x)*(3.33333333333333*x - 6.0) + (7.314 - 2.76*x)*(25.0 - 9.99999999999999*x)*(1.66666666666667*x - 3.0)*(3.33333333333334*x - 7.0) + (12.5433333333333 - 4.73333333333334*x)*(1.42857142857143*x - 2.57142857142857)*(2.5*x - 5.25)*(9.99999999999999*x - 24.0) + (1.17647058823529*x - 2.11764705882353)*(1.81818181818182*x - 3.81818181818182)*(4.0*x - 9.6)*(4.73333333333334*x - 11.8333333333333)\n",
      "\n",
      "Polinomio Simplificado:\n",
      "y(x) = -2.4412189118072*x**4 + 21.8001867413636*x**3 - 72.5823699176653*x**2 + 106.895541125539*x - 58.1568449197853\n"
     ]
    }
   ],
   "source": [
    "\n",
    "try:\n",
    "    x_points = [2.65, 2.5, 2.4,2.1, 1.8]\n",
    "    y_points = [0.71, 0.71, 0.69, 0.65, 0.6]\n",
    "    xp = float(input(\"Enter x: \"))\n",
    "    lagrange_1(x_points, y_points, xp)\n",
    "except ValueError:\n",
    "    print(\"Please insert a valid number\")"
   ]
  },
  {
   "cell_type": "code",
   "execution_count": 28,
   "id": "bf5e1206-9c13-4253-80ab-55e2924dccf1",
   "metadata": {},
   "outputs": [
    {
     "ename": "SyntaxError",
     "evalue": "invalid syntax (1520475375.py, line 10)",
     "output_type": "error",
     "traceback": [
      "\u001b[0;36m  Cell \u001b[0;32mIn[28], line 10\u001b[0;36m\u001b[0m\n\u001b[0;31m    For x = 10.0, y = 38.9\u001b[0m\n\u001b[0m        ^\u001b[0m\n\u001b[0;31mSyntaxError\u001b[0m\u001b[0;31m:\u001b[0m invalid syntax\n"
     ]
    }
   ],
   "source": [
    "def lagrange_interpolation(xp, x_points, y_points):\n",
    "    yp = 0\n",
    "    for i in range(len(x_points)):\n",
    "        yp += y_points[i] * lagrange_basis(xp, x_points, i)\n",
    "    return yp\n",
    "# Solicitar el valor de x para interpolar\n",
    "xp = float(input(\"Enter x: \"))\n",
    "yp = lagrange_interpolation(xp, x, y)\n",
    "print(\"For x = %.1f, y = %.1f\" % (xp, yp))\n",
    "For x = 10.0, y = 38.9\n",
    "# Crear puntos para la interpolación\n",
    "x_interpolado = np.linspace(min(x), max(x), 100)\n",
    "y_interpolado = [lagrange_interpolation(x_val, x, y) for x_val in x_interpolado]\n",
    "# Graficar los puntos originales\n",
    "plt.scatter(x, y, label=\"Puntos Originales\", color=\"red\")\n",
    "# Graficar el polinomio de interpolación de Lagrange\n",
    "plt.plot(x_interpolado, y_interpolado, label=\"Interpolación de Lagrange\", linestyle=\"-\")\n",
    "# Graficar los puntos de interpolación\n",
    "plt.scatter(xp, yp, label=f\"Punto Interpolado (x={xp}, y={yp})\", color=\"blue\", zorder=5)\n",
    "\n",
    "\n",
    "# Añadir etiquetas y leyenda\n",
    "plt.xlabel(\"x\")\n",
    "plt.ylabel(\"y\")\n",
    "plt.title(\"Polinomio de Interpolación de Lagrange\")\n",
    "plt.legend()\n",
    "plt.grid(True)\n",
    "\n",
    "# Mostrar la gráfica\n",
    "plt.show()"
   ]
  },
  {
   "cell_type": "code",
   "execution_count": null,
   "id": "17f4cc18-c8b0-4094-bf5c-6f2a5ce1b8aa",
   "metadata": {},
   "outputs": [],
   "source": []
  }
 ],
 "metadata": {
  "kernelspec": {
   "display_name": "Python 3 (ipykernel)",
   "language": "python",
   "name": "python3"
  },
  "language_info": {
   "codemirror_mode": {
    "name": "ipython",
    "version": 3
   },
   "file_extension": ".py",
   "mimetype": "text/x-python",
   "name": "python",
   "nbconvert_exporter": "python",
   "pygments_lexer": "ipython3",
   "version": "3.11.7"
  }
 },
 "nbformat": 4,
 "nbformat_minor": 5
}
