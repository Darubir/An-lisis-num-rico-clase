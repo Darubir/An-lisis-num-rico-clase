{
 "cells": [
  {
   "cell_type": "markdown",
   "id": "0178a121-24ce-4038-a778-616dc72eb389",
   "metadata": {},
   "source": [
    "kernel myenv"
   ]
  },
  {
   "cell_type": "markdown",
   "id": "4f61ea44-87d9-4e80-bfca-295962c8784d",
   "metadata": {},
   "source": [
    "<div style=\"font-family: Arial, sans-serif; font-size: 24px; font-weight: bold;\">\n",
    "    PRIMERA SECCIÓN. INTRODUCCIÓN\n",
    "</div>"
   ]
  },
  {
   "cell_type": "markdown",
   "id": "4df18bd1-a2a3-4bc7-8617-726ee51d2ce1",
   "metadata": {},
   "source": [
    "FUNCIONES MATEMÁTICAS\n",
    "uso de math.nombre()\n",
    "https://docs.python.org/3/library/math.html"
   ]
  },
  {
   "cell_type": "code",
   "execution_count": 4,
   "id": "db768b3d-d82f-443e-a7e9-36a2b89350c6",
   "metadata": {},
   "outputs": [
    {
     "data": {
      "text/plain": [
       "2.0"
      ]
     },
     "execution_count": 4,
     "metadata": {},
     "output_type": "execute_result"
    }
   ],
   "source": [
    "import math as mt\n",
    "from math import *   #para no tener que usar mt cada que ocupe una funcion\n",
    "sqrt(4) #no necesito usar print(), solo pongo la variable o la funcion"
   ]
  },
  {
   "cell_type": "markdown",
   "id": "5c446ed8-8d26-4ecb-aa9a-81ad3cd3f547",
   "metadata": {},
   "source": [
    "NÚMEROS COMPLEJOS\n",
    "unidad de los imaginarios es 1j,en lugar de i.\n",
    "Puedes definir un complejo con la notación a + b*1j o con la notación complex(a,b)\n",
    "-Operaciones:\n",
    "suma\n",
    "resta\n",
    "division\n",
    "multiplicacion"
   ]
  },
  {
   "cell_type": "code",
   "execution_count": 5,
   "id": "05b8d43f-58b9-477b-9a09-6432af5f5c42",
   "metadata": {},
   "outputs": [
    {
     "name": "stdout",
     "output_type": "stream",
     "text": [
      "la suma de un real y un complejo (12+5j)\n"
     ]
    },
    {
     "data": {
      "text/plain": [
       "5.0"
      ]
     },
     "execution_count": 5,
     "metadata": {},
     "output_type": "execute_result"
    }
   ],
   "source": [
    "com1=complex(8,5)\n",
    "com2=complex(2,6)\n",
    "comp4=com1+4\n",
    "print(\"la suma de un real y un complejo\",comp4)\n",
    "#comandos\n",
    "r=com1.real\n",
    "c=com1.imag\n",
    "cc=com1.conjugate()\n",
    "c"
   ]
  },
  {
   "cell_type": "markdown",
   "id": "de5c93d1-0d02-48eb-93e1-5032fe7e2b97",
   "metadata": {},
   "source": [
    "FUNCIONES DE VARIABLES COMPLEJAS\n",
    "en lugar de usar math, se usa cmath para números complejos"
   ]
  },
  {
   "cell_type": "code",
   "execution_count": 6,
   "id": "bde412dd-8ff1-4173-82a4-7ce041065369",
   "metadata": {},
   "outputs": [
    {
     "data": {
      "text/plain": [
       "(-2.6279463948751562+3.0156090173732184j)"
      ]
     },
     "execution_count": 6,
     "metadata": {},
     "output_type": "execute_result"
    }
   ],
   "source": [
    "from cmath import sin, sinh, exp, cos\n",
    "r1=sin(8j)\n",
    "r2=sinh(6j)*e  #puedo seguir usando opciones de math\n",
    "r3=4j*exp(7j)\n",
    "r3 #imprime (-2.6279463948751562+3.0156090173732184j), donde -2.6279463948751562 es la parte real y +3.0156090173732184j la imaginaria"
   ]
  },
  {
   "cell_type": "markdown",
   "id": "f5c59bd2-3908-4e2c-a328-985e210b3089",
   "metadata": {},
   "source": [
    "NÚMERO REAL A IMAGINARIO\n",
    "numero imaginario: 3i\n",
    "numero complejo(parte real e imaginaria): 2+3i\n",
    "si tengo un numero real x1=2 y la convierto en imaginaria con 1j"
   ]
  },
  {
   "cell_type": "code",
   "execution_count": 7,
   "id": "d35a8739-f833-4a48-b7bb-a7e4edd3f9c6",
   "metadata": {},
   "outputs": [
    {
     "data": {
      "text/plain": [
       "2j"
      ]
     },
     "execution_count": 7,
     "metadata": {},
     "output_type": "execute_result"
    }
   ],
   "source": [
    "x1=2\n",
    "x2=2*1j\n",
    "x2"
   ]
  },
  {
   "cell_type": "markdown",
   "id": "50952a66-dc43-4043-a97f-20bc0bdeed61",
   "metadata": {},
   "source": [
    "FUNCIONES EN EL PLANO COMPLEJO\n",
    "uso de:\n",
    "from numpy.lib.scimath import *\n",
    "para funciones con números complejos y reales al mismo tiempo (plano complejo)"
   ]
  },
  {
   "cell_type": "code",
   "execution_count": 8,
   "id": "41507ab3-66c8-4938-b38c-35344fdebec0",
   "metadata": {},
   "outputs": [],
   "source": [
    "from numpy.lib.scimath import *"
   ]
  },
  {
   "cell_type": "markdown",
   "id": "00a3f770-c5be-4161-bde5-65d0cc1bd016",
   "metadata": {},
   "source": [
    "DERIVADAS E INTEGRALES SIMBÓLICAS\n",
    "\n",
    "symbols # expresiones simbólicas (representar expresiones algebraicas y matemáticas sin asignarles valores numéricos) \n",
    "diff    # derivada de una expresión simbólica con respecto a una variable: diff(expresion, x) seg derivada diff(expresion,x,x)\n",
    "integrate # integral de una expresión simbólica con respecto de una variable: integrate(expresion, x)\n",
    "Rational # definir números racionales, es decir, fracciones con numerador y denominador enteros: Rational(1, 3)  # Representa 1/3\n",
    "lambdify # convertir expresiones simbólicas en funciones que pueden ser evaluadas: f = lambdify(x, expresion), result = f(2)  # Evalúa la expresión en x = 2\n",
    "solve # encontrará los valores de x (raices con x=0) que satisfacen esta ecuación :solve(equation, x) \n",
    "\n",
    "Podemos ver como funciona la diferenciacion e integracion simbolica usando la expresipon v_0t-(1/2)gt^2\n",
    "Ej. Derivar y luego integrar para regresar a la expresión original de caída libre con respecto al tiempo"
   ]
  },
  {
   "cell_type": "code",
   "execution_count": 16,
   "id": "5b184e41-a7cc-4579-a57d-2a17435de6fb",
   "metadata": {},
   "outputs": [
    {
     "name": "stdout",
     "output_type": "stream",
     "text": [
      "y= -g*t**2/2 + t*v0\n",
      "y'= -g*t + v0\n",
      "la integral de y' es: -g*t**2/2 + t*v0\n",
      "-72.5\n"
     ]
    }
   ],
   "source": [
    "from sympy import symbols, diff,integrate, Rational, lambdify,solve\n",
    "v0,g,t=symbols('v0,g,t')  #en primer lugar todas nuestras variables son símbolos\n",
    "y=v0*t-Rational(1,2)*g*t**2  #expresión simbólica\n",
    "print(\"y=\",y)\n",
    "#derivar\n",
    "der1=diff(y,t)\n",
    "print(\"y'=\",der1)\n",
    "#integrar\n",
    "int1=integrate(der1,t)\n",
    "print(\"la integral de y' es:\",int1)\n",
    "f=lambdify((t,v0,g),y)\n",
    "print(f(5,10,9.8))\n",
    "roots = solve(y, t) #resuelve cuando y=0 para t\n",
    "#print ('Las raices son', roots) \n",
    "#print ('La primera raiz es', roots[0])\n",
    "#print ('La primera raiz es', roots[1])"
   ]
  },
  {
   "cell_type": "markdown",
   "id": "f6216380-7b5d-47ee-b5f3-303df1ba6ccb",
   "metadata": {},
   "source": [
    "SERIE DE TAYLOR\n"
   ]
  },
  {
   "cell_type": "markdown",
   "id": "169632f0-f0b6-41bf-b346-6ed6486db62d",
   "metadata": {},
   "source": [
    "<div style=\"font-family: Arial, sans-serif; font-size: 24px; font-weight: bold;\">\n",
    "    SEGUNDA SECCIÓN. ÁLGEBRA LINEAL\n",
    "</div>"
   ]
  },
  {
   "cell_type": "code",
   "execution_count": null,
   "id": "c227a45d-f5c2-4c51-a6e3-3f0870174912",
   "metadata": {},
   "outputs": [],
   "source": []
  }
 ],
 "metadata": {
  "kernelspec": {
   "display_name": "Python (myenv)",
   "language": "python",
   "name": "myenv"
  },
  "language_info": {
   "codemirror_mode": {
    "name": "ipython",
    "version": 3
   },
   "file_extension": ".py",
   "mimetype": "text/x-python",
   "name": "python",
   "nbconvert_exporter": "python",
   "pygments_lexer": "ipython3",
   "version": "3.12.3"
  }
 },
 "nbformat": 4,
 "nbformat_minor": 5
}
