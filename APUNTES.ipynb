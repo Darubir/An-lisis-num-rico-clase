{
 "cells": [
  {
   "cell_type": "markdown",
   "id": "0178a121-24ce-4038-a778-616dc72eb389",
   "metadata": {},
   "source": [
    "kernel myenv"
   ]
  },
  {
   "cell_type": "markdown",
   "id": "4f61ea44-87d9-4e80-bfca-295962c8784d",
   "metadata": {},
   "source": [
    "<div style=\"font-family: Arial, sans-serif; font-size: 24px; font-weight: bold;\">\n",
    "    PRIMERA SECCIÓN. INTRODUCCIÓN\n",
    "</div>"
   ]
  },
  {
   "cell_type": "markdown",
   "id": "4df18bd1-a2a3-4bc7-8617-726ee51d2ce1",
   "metadata": {},
   "source": [
    "FUNCIONES MATEMÁTICAS\n",
    "uso de math.nombre()\n",
    "https://docs.python.org/3/library/math.html"
   ]
  },
  {
   "cell_type": "code",
   "execution_count": 4,
   "id": "db768b3d-d82f-443e-a7e9-36a2b89350c6",
   "metadata": {},
   "outputs": [
    {
     "data": {
      "text/plain": [
       "2.0"
      ]
     },
     "execution_count": 4,
     "metadata": {},
     "output_type": "execute_result"
    }
   ],
   "source": [
    "import math as mt\n",
    "from math import *   #para no tener que usar mt cada que ocupe una funcion\n",
    "sqrt(4) #no necesito usar print(), solo pongo la variable o la funcion"
   ]
  },
  {
   "cell_type": "markdown",
   "id": "5c446ed8-8d26-4ecb-aa9a-81ad3cd3f547",
   "metadata": {},
   "source": [
    "NÚMEROS COMPLEJOS\n",
    "unidad de los imaginarios es 1j,en lugar de i.\n",
    "Puedes definir un complejo con la notación a + b*1j o con la notación complex(a,b)\n",
    "-Operaciones:\n",
    "suma\n",
    "resta\n",
    "division\n",
    "multiplicacion"
   ]
  },
  {
   "cell_type": "code",
   "execution_count": 5,
   "id": "05b8d43f-58b9-477b-9a09-6432af5f5c42",
   "metadata": {},
   "outputs": [
    {
     "name": "stdout",
     "output_type": "stream",
     "text": [
      "la suma de un real y un complejo (12+5j)\n"
     ]
    },
    {
     "data": {
      "text/plain": [
       "5.0"
      ]
     },
     "execution_count": 5,
     "metadata": {},
     "output_type": "execute_result"
    }
   ],
   "source": [
    "com1=complex(8,5)\n",
    "com2=complex(2,6)\n",
    "comp4=com1+4\n",
    "print(\"la suma de un real y un complejo\",comp4)\n",
    "#comandos\n",
    "r=com1.real\n",
    "c=com1.imag\n",
    "cc=com1.conjugate()\n",
    "c"
   ]
  },
  {
   "cell_type": "markdown",
   "id": "de5c93d1-0d02-48eb-93e1-5032fe7e2b97",
   "metadata": {},
   "source": [
    "FUNCIONES DE VARIABLES COMPLEJAS\n",
    "en lugar de usar math, se usa cmath para números complejos"
   ]
  },
  {
   "cell_type": "code",
   "execution_count": 6,
   "id": "bde412dd-8ff1-4173-82a4-7ce041065369",
   "metadata": {},
   "outputs": [
    {
     "data": {
      "text/plain": [
       "(-2.6279463948751562+3.0156090173732184j)"
      ]
     },
     "execution_count": 6,
     "metadata": {},
     "output_type": "execute_result"
    }
   ],
   "source": [
    "from cmath import sin, sinh, exp, cos\n",
    "r1=sin(8j)\n",
    "r2=sinh(6j)*e  #puedo seguir usando opciones de math\n",
    "r3=4j*exp(7j)\n",
    "r3 #imprime (-2.6279463948751562+3.0156090173732184j), donde -2.6279463948751562 es la parte real y +3.0156090173732184j la imaginaria"
   ]
  },
  {
   "cell_type": "markdown",
   "id": "f5c59bd2-3908-4e2c-a328-985e210b3089",
   "metadata": {},
   "source": [
    "NÚMERO REAL A IMAGINARIO\n",
    "numero imaginario: 3i\n",
    "numero complejo(parte real e imaginaria): 2+3i\n",
    "si tengo un numero real x1=2 y la convierto en imaginaria con 1j"
   ]
  },
  {
   "cell_type": "code",
   "execution_count": 7,
   "id": "d35a8739-f833-4a48-b7bb-a7e4edd3f9c6",
   "metadata": {},
   "outputs": [
    {
     "data": {
      "text/plain": [
       "2j"
      ]
     },
     "execution_count": 7,
     "metadata": {},
     "output_type": "execute_result"
    }
   ],
   "source": [
    "x1=2\n",
    "x2=2*1j\n",
    "x2"
   ]
  },
  {
   "cell_type": "markdown",
   "id": "50952a66-dc43-4043-a97f-20bc0bdeed61",
   "metadata": {},
   "source": [
    "FUNCIONES EN EL PLANO COMPLEJO\n",
    "uso de:\n",
    "from numpy.lib.scimath import *\n",
    "para funciones con números complejos y reales al mismo tiempo (plano complejo)"
   ]
  },
  {
   "cell_type": "code",
   "execution_count": 8,
   "id": "41507ab3-66c8-4938-b38c-35344fdebec0",
   "metadata": {},
   "outputs": [],
   "source": [
    "from numpy.lib.scimath import *"
   ]
  },
  {
   "cell_type": "markdown",
   "id": "00a3f770-c5be-4161-bde5-65d0cc1bd016",
   "metadata": {},
   "source": [
    "DERIVADAS E INTEGRALES SIMBÓLICAS\n",
    "\n",
    "symbols # expresiones simbólicas (representar expresiones algebraicas y matemáticas sin asignarles valores numéricos) \n",
    "diff    # derivada de una expresión simbólica con respecto a una variable: diff(expresion, x) seg derivada diff(expresion,x,x)\n",
    "integrate # integral de una expresión simbólica con respecto de una variable: integrate(expresion, x)\n",
    "Rational # definir números racionales, es decir, fracciones con numerador y denominador enteros: Rational(1, 3)  # Representa 1/3\n",
    "lambdify # convertir expresiones simbólicas en funciones que pueden ser evaluadas: f = lambdify(x, expresion), result = f(2)  # Evalúa la expresión en x = 2\n",
    "solve # encontrará los valores de x (raices con x=0) que satisfacen esta ecuación :solve(equation, x) \n",
    "\n",
    "Podemos ver como funciona la diferenciacion e integracion simbolica usando la expresipon v_0t-(1/2)gt^2\n",
    "Ej. Derivar y luego integrar para regresar a la expresión original de caída libre con respecto al tiempo"
   ]
  },
  {
   "cell_type": "code",
   "execution_count": 16,
   "id": "5b184e41-a7cc-4579-a57d-2a17435de6fb",
   "metadata": {},
   "outputs": [
    {
     "name": "stdout",
     "output_type": "stream",
     "text": [
      "y= -g*t**2/2 + t*v0\n",
      "y'= -g*t + v0\n",
      "la integral de y' es: -g*t**2/2 + t*v0\n",
      "-72.5\n"
     ]
    }
   ],
   "source": [
    "from sympy import symbols, diff,integrate, Rational, lambdify,solve\n",
    "v0,g,t=symbols('v0,g,t')  #en primer lugar todas nuestras variables son símbolos\n",
    "y=v0*t-Rational(1,2)*g*t**2  #expresión simbólica\n",
    "print(\"y=\",y)\n",
    "#derivar\n",
    "der1=diff(y,t)\n",
    "print(\"y'=\",der1)\n",
    "#integrar\n",
    "int1=integrate(der1,t)\n",
    "print(\"la integral de y' es:\",int1)\n",
    "f=lambdify((t,v0,g),y)\n",
    "print(f(5,10,9.8))\n",
    "roots = solve(y, t) #resuelve cuando y=0 para t\n",
    "#print ('Las raices son', roots) \n",
    "#print ('La primera raiz es', roots[0])\n",
    "#print ('La primera raiz es', roots[1])"
   ]
  },
  {
   "cell_type": "markdown",
   "id": "f6216380-7b5d-47ee-b5f3-303df1ba6ccb",
   "metadata": {},
   "source": [
    "SERIE DE TAYLOR\n"
   ]
  },
  {
   "cell_type": "markdown",
   "id": "169632f0-f0b6-41bf-b346-6ed6486db62d",
   "metadata": {},
   "source": [
    "<div style=\"font-family: Arial, sans-serif; font-size: 24px; font-weight: bold;\">\n",
    "    SEGUNDA SECCIÓN. ÁLGEBRA LINEAL\n",
    "</div>"
   ]
  },
  {
   "cell_type": "code",
   "execution_count": null,
   "id": "48806263-a328-4595-be42-eca32f615c64",
   "metadata": {},
   "outputs": [],
   "source": []
  },
  {
   "cell_type": "markdown",
   "id": "18b1e878-a762-4c0b-a1ae-1d21b576a444",
   "metadata": {},
   "source": [
    "<div style=\"font-family: Arial, sans-serif; font-size: 24px; font-weight: bold;\">\n",
    "    TERCERA SECCIÓN. REPASO DE FÍSICA\n",
    "</div>"
   ]
  },
  {
   "cell_type": "markdown",
   "id": "885fad61-0693-4a58-9ae3-f689be28b03c",
   "metadata": {},
   "source": [
    "ECUACIONES DE CINEMATICA (LINEAL)\n",
    "v=dx/dt ---1\n",
    "integrando la expresion 1\n",
    "\n",
    "me dará vt=x2-x1   \n",
    "con limites de integracion en ambas integrales\n",
    "\n",
    "la segunda derivada de la expresion 1 sera la aceleracion que integraremos \n",
    "a=dv/dt\n",
    "\n",
    "me dará 1/2at^2=x2-x1 (2)\n",
    "la integral de aceleracion con limites de de integracion de 0 a t\n",
    "\n",
    "\n",
    "entonces\n",
    "v=deltax/deltat\n",
    "v=x2-x1/t2-t1\n",
    "v=x2-x1/t  ---3 cuando t1=0\n",
    "\n",
    "vt=x2-x1\n",
    "x2=x1+v1f   (1)\n",
    "\n",
    "tenemos aceleracion como\n",
    "a=v2-v1/f\n",
    "\n",
    "sustituimos esta aceleracion en la expresion (2)\n",
    "1/2(v2-v1/f)t^2=x2-x1\n",
    "\n",
    "queda (vf-v1)t=2(x2-x1)  (3)\n",
    "\n",
    "vf^2-v1^2=2a(x2-x1)      (4)\n",
    "\n",
    "ECUACIONES DE \n",
    "tenemos un circulo de radio r y angulo theta \n",
    "perimetro\n",
    "2pir\n",
    "\n",
    "el arco de la circunferencia(un cachito de la circunferencia(s))\n",
    "s=r(theta)\n",
    "\n",
    "velocidad lineal\n",
    "v=dx/df\n",
    "\n",
    "aceleracion lineal\n",
    "a=dv/dt\n",
    "\n",
    "velocidad angular\n",
    "w=d(theta)/dt\n",
    "\n",
    "aceleracion angular\n",
    "alfa=dw/dt= d^2(theta)/dt^2\n",
    "\n",
    "relación velocidad angular y lineal\n",
    "wr=v\n",
    "\n",
    "relacion ac angular y lineal\n",
    "alfa(r)=a\n",
    "\n",
    "si tenemos\n",
    "w=d(theta)/dt\n",
    "y\n",
    "alfa=dw/dt\n",
    "queremos escribir nuestras ecuaciones de cinematica en su forma angular, la enterior era lineal\n",
    "ECUACIONES DE CINEMATICA (ANGULAR)\n",
    "wf=theta1+w1t           (1.1)\n",
    "theta2=theta1+v1t+(1/2)alfa(t^2)    (2.1)\n",
    "w2^2-w1^2=2alfa(theta1-theta2)         (3.1)\n",
    "theta2=theta1+(1/2)(w2-w1)t          (4.1)\n",
    "\n",
    "trabajaremos con (2.1)\n",
    "si tenemos las ecuaciones lineales siguientes\n",
    "\n",
    "theta1+v1t+(1/2)alfa(t^2)=theta2\n",
    "9-2t+5t^2=2\n",
    "8+4t-5t^2=5  \n",
    "2-9t-3t^2=0\n",
    "estas ecuaciones representan un movimiento angular de algun cosa, tenemos diferentes valores en thetas y alfa y v, menos en t, que es lo que buscaremos\n",
    "\n",
    "de forma matricial\n",
    "([9,-2,5],[8,4,-5],[2,-9,-3])([t1],[t2],[t3])=([2],[5],[0])\n",
    "queremos conocer el tiempo en el que sucede esto, resolvemos para la matriz ([t1],[t2],[t3])\n",
    "es :\\n',gaussElimin(a,b))"
   ]
  },
  {
   "cell_type": "code",
   "execution_count": 4,
   "id": "1e4aecde-7d3b-49cf-bcaa-888d43b907cd",
   "metadata": {},
   "outputs": [
    {
     "name": "stdout",
     "output_type": "stream",
     "text": [
      "La matriz de coeficientes es:\n",
      "  [[ 9. -2.  5.]\n",
      " [ 8.  4. -5.]\n",
      " [ 2. -9. -3.]]\n",
      "La matriz constante es:\n",
      "  [[2.]\n",
      " [5.]\n",
      " [0.]]\n",
      "La matriz aumentada es :\n",
      " [[ 9. -2.  5.  2.]\n",
      " [ 8.  4. -5.  5.]\n",
      " [ 2. -9. -3.  0.]]\n",
      "El vector solución es :\n",
      " [[ 0.39213603]\n",
      " [ 0.16684378]\n",
      " [-0.23910733]]\n"
     ]
    }
   ],
   "source": [
    "import numpy as np\n",
    "a = np.array([[9.0,-2.0,5.0], [8.0,4.0,-5.0], [2.0,-9.0,-3.0]])\n",
    "print('La matriz de coeficientes es:\\n ', a)\n",
    "b = np.array([[2.0], [5.0], [0.0]])\n",
    "n = len(b)\n",
    "print('La matriz constante es:\\n ', b)\n",
    "\n",
    "matriz_aumentada = np.concatenate((a,b), axis=1, dtype=float)\n",
    "print('La matriz aumentada es :\\n', matriz_aumentada)\n",
    "\n",
    "\n",
    "def gaussElimin(a,b):\n",
    "  # Fase de eliminacion\n",
    "  for k in range(0,n-1):\n",
    "    for i in range(k+1,n):\n",
    "      if matriz_aumentada[i,k] != 0.0:\n",
    "        lam = matriz_aumentada[i,k]/matriz_aumentada[k,k]\n",
    "        matriz_aumentada[i] = matriz_aumentada[i] - lam*matriz_aumentada[k]\n",
    "        b[i] = b[i] - lam*b[k]\n",
    "       \n",
    "  # Fase de sustitucion hacia atras\n",
    "  for k in range(n-1,-1,-1):\n",
    "    b[k] = (b[k] - np.dot(matriz_aumentada[k,k+1:n],b[k+1:n]))/matriz_aumentada[k,k]\n",
    "  return b\n",
    "\n",
    "\n",
    "print('El vector solución es :\\n',gaussElimin(a,b))"
   ]
  },
  {
   "cell_type": "markdown",
   "id": "55f1aa41-209f-4c06-80a7-5e31906440a9",
   "metadata": {},
   "source": [
    "Un coche se mueve en linea recta y parte del reposo.se sabe que el coche\n",
    "\n",
    "usaremos la ecuacion\n",
    "x2=x1+v1t+(1/2)at^2\n",
    "\n",
    "datos 1\n",
    "x1=0\n",
    "t=5\n",
    "x2=50\n",
    "v1=0\n",
    "\n",
    "nuestra ecuacion 1 en primeros 5 segundos seria\n",
    "50=(1/2)a(5)^2\n",
    "\n",
    "datos 2\n",
    "x1=50\n",
    "t=3\n",
    "a=0\n",
    "\n",
    "\n",
    "nuestra ecuacion 2 en los siguientes 3 segundos seria\n",
    "v2=at\n",
    "\n",
    "v2=a(5)\n",
    "\n",
    "datos 3\n",
    "v2=a(5)\n",
    "\n",
    "nuestra ecuacion 3  seria\n",
    "xf=v2(2)-(1/2)(-vf/2)(2)^2\n",
    "\n",
    "xf=3v2\n",
    "\n",
    "nuestro sistema de ecuaciones lineales es entonces\n",
    "25a=100\n",
    "vf-5a=0\n",
    "x2-3v2=0\n",
    "\n",
    "([0,0,25],[0,1,-5],[1,-3,0])(x2,v2,a)=(0,0,100)"
   ]
  },
  {
   "cell_type": "code",
   "execution_count": 8,
   "id": "955c937e-dc95-4a5a-9958-d9499b3a92e0",
   "metadata": {},
   "outputs": [
    {
     "name": "stdout",
     "output_type": "stream",
     "text": [
      "La matriz de coeficientes es:\n",
      "  [[ 0.  0. 25.]\n",
      " [ 0.  1. -5.]\n",
      " [ 1. -3.  0.]]\n",
      "La matriz constante es:\n",
      "  [[  0.]\n",
      " [  0.]\n",
      " [100.]]\n",
      "La matriz aumentada es :\n",
      " [[  0.   0.  25.   0.]\n",
      " [  0.   1.  -5.   0.]\n",
      " [  1.  -3.   0. 100.]]\n",
      "El vector solución es :\n",
      " [[nan]\n",
      " [nan]\n",
      " [nan]]\n"
     ]
    },
    {
     "name": "stderr",
     "output_type": "stream",
     "text": [
      "C:\\Users\\CC_15\\AppData\\Local\\Temp\\ipykernel_12784\\1771473699.py:16: RuntimeWarning: divide by zero encountered in scalar divide\n",
      "  lam = matriz_aumentada[i,k]/matriz_aumentada[k,k]\n",
      "C:\\Users\\CC_15\\AppData\\Local\\Temp\\ipykernel_12784\\1771473699.py:17: RuntimeWarning: invalid value encountered in multiply\n",
      "  matriz_aumentada[i] = matriz_aumentada[i] - lam*matriz_aumentada[k]\n",
      "C:\\Users\\CC_15\\AppData\\Local\\Temp\\ipykernel_12784\\1771473699.py:18: RuntimeWarning: invalid value encountered in multiply\n",
      "  b[i] = b[i] - lam*b[k]\n"
     ]
    }
   ],
   "source": [
    "a = np.array([[0.0,0.0,25.0], [0.0,1.0,-5.0], [1.0,-3.0,0.0]])\n",
    "print('La matriz de coeficientes es:\\n ', a)\n",
    "b = np.array([[0.0], [0.0], [100.0]])\n",
    "n = len(b)\n",
    "print('La matriz constante es:\\n ', b)\n",
    "\n",
    "matriz_aumentada = np.concatenate((a,b), axis=1, dtype=float)\n",
    "print('La matriz aumentada es :\\n', matriz_aumentada)\n",
    "\n",
    "\n",
    "def gaussElimin(a,b):\n",
    "  # Fase de eliminacion\n",
    "  for k in range(0,n-1):\n",
    "    for i in range(k+1,n):\n",
    "      if matriz_aumentada[i,k] != 0.0:\n",
    "        lam = matriz_aumentada[i,k]/matriz_aumentada[k,k]\n",
    "        matriz_aumentada[i] = matriz_aumentada[i] - lam*matriz_aumentada[k]\n",
    "        b[i] = b[i] - lam*b[k]\n",
    "       \n",
    "  # Fase de sustitucion hacia atras\n",
    "  for k in range(n-1,-1,-1):\n",
    "    b[k] = (b[k] - np.dot(matriz_aumentada[k,k+1:n],b[k+1:n]))/matriz_aumentada[k,k]\n",
    "  return b\n",
    "\n",
    "\n",
    "print('El vector solución es :\\n',gaussElimin(a,b))"
   ]
  },
  {
   "cell_type": "code",
   "execution_count": null,
   "id": "b600c8e6-a0f4-4636-a354-fa8793ecc0ae",
   "metadata": {},
   "outputs": [],
   "source": []
  }
 ],
 "metadata": {
  "kernelspec": {
   "display_name": "Python 3 (ipykernel)",
   "language": "python",
   "name": "python3"
  },
  "language_info": {
   "codemirror_mode": {
    "name": "ipython",
    "version": 3
   },
   "file_extension": ".py",
   "mimetype": "text/x-python",
   "name": "python",
   "nbconvert_exporter": "python",
   "pygments_lexer": "ipython3",
   "version": "3.11.7"
  }
 },
 "nbformat": 4,
 "nbformat_minor": 5
}
