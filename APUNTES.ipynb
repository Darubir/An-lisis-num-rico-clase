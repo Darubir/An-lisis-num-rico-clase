{
 "cells": [
  {
   "cell_type": "markdown",
   "id": "0178a121-24ce-4038-a778-616dc72eb389",
   "metadata": {},
   "source": [
    "kernel myenv"
   ]
  },
  {
   "cell_type": "markdown",
   "id": "4f61ea44-87d9-4e80-bfca-295962c8784d",
   "metadata": {},
   "source": [
    "<div style=\"font-family: Arial, sans-serif; font-size: 24px; font-weight: bold;\">\n",
    "    PRIMERA SECCIÓN. INTRODUCCIÓN\n",
    "</div>"
   ]
  },
  {
   "cell_type": "markdown",
   "id": "4df18bd1-a2a3-4bc7-8617-726ee51d2ce1",
   "metadata": {},
   "source": [
    "FUNCIONES MATEMÁTICAS\n",
    "uso de math.nombre()\n",
    "https://docs.python.org/3/library/math.html"
   ]
  },
  {
   "cell_type": "code",
   "execution_count": 4,
   "id": "db768b3d-d82f-443e-a7e9-36a2b89350c6",
   "metadata": {},
   "outputs": [
    {
     "data": {
      "text/plain": [
       "2.0"
      ]
     },
     "execution_count": 4,
     "metadata": {},
     "output_type": "execute_result"
    }
   ],
   "source": [
    "import math as mt\n",
    "from math import *   #para no tener que usar mt cada que ocupe una funcion\n",
    "sqrt(4) #no necesito usar print(), solo pongo la variable o la funcion"
   ]
  },
  {
   "cell_type": "markdown",
   "id": "5c446ed8-8d26-4ecb-aa9a-81ad3cd3f547",
   "metadata": {},
   "source": [
    "NÚMEROS COMPLEJOS\n",
    "unidad de los imaginarios es 1j,en lugar de i.\n",
    "Puedes definir un complejo con la notación a + b*1j o con la notación complex(a,b)\n",
    "-Operaciones:\n",
    "suma\n",
    "resta\n",
    "division\n",
    "multiplicacion"
   ]
  },
  {
   "cell_type": "code",
   "execution_count": 5,
   "id": "05b8d43f-58b9-477b-9a09-6432af5f5c42",
   "metadata": {},
   "outputs": [
    {
     "name": "stdout",
     "output_type": "stream",
     "text": [
      "la suma de un real y un complejo (12+5j)\n"
     ]
    },
    {
     "data": {
      "text/plain": [
       "5.0"
      ]
     },
     "execution_count": 5,
     "metadata": {},
     "output_type": "execute_result"
    }
   ],
   "source": [
    "com1=complex(8,5)\n",
    "com2=complex(2,6)\n",
    "comp4=com1+4\n",
    "print(\"la suma de un real y un complejo\",comp4)\n",
    "#comandos\n",
    "r=com1.real\n",
    "c=com1.imag\n",
    "cc=com1.conjugate()\n",
    "c"
   ]
  },
  {
   "cell_type": "markdown",
   "id": "de5c93d1-0d02-48eb-93e1-5032fe7e2b97",
   "metadata": {},
   "source": [
    "FUNCIONES DE VARIABLES COMPLEJAS\n",
    "en lugar de usar math, se usa cmath para números complejos"
   ]
  },
  {
   "cell_type": "code",
   "execution_count": 6,
   "id": "bde412dd-8ff1-4173-82a4-7ce041065369",
   "metadata": {},
   "outputs": [
    {
     "data": {
      "text/plain": [
       "(-2.6279463948751562+3.0156090173732184j)"
      ]
     },
     "execution_count": 6,
     "metadata": {},
     "output_type": "execute_result"
    }
   ],
   "source": [
    "from cmath import sin, sinh, exp, cos\n",
    "r1=sin(8j)\n",
    "r2=sinh(6j)*e  #puedo seguir usando opciones de math\n",
    "r3=4j*exp(7j)\n",
    "r3 #imprime (-2.6279463948751562+3.0156090173732184j), donde -2.6279463948751562 es la parte real y +3.0156090173732184j la imaginaria"
   ]
  },
  {
   "cell_type": "markdown",
   "id": "f5c59bd2-3908-4e2c-a328-985e210b3089",
   "metadata": {},
   "source": [
    "NÚMERO REAL A IMAGINARIO\n",
    "numero imaginario: 3i\n",
    "numero complejo(parte real e imaginaria): 2+3i\n",
    "si tengo un numero real x1=2 y la convierto en imaginaria con 1j"
   ]
  },
  {
   "cell_type": "code",
   "execution_count": 7,
   "id": "d35a8739-f833-4a48-b7bb-a7e4edd3f9c6",
   "metadata": {},
   "outputs": [
    {
     "data": {
      "text/plain": [
       "2j"
      ]
     },
     "execution_count": 7,
     "metadata": {},
     "output_type": "execute_result"
    }
   ],
   "source": [
    "x1=2\n",
    "x2=2*1j\n",
    "x2"
   ]
  },
  {
   "cell_type": "markdown",
   "id": "50952a66-dc43-4043-a97f-20bc0bdeed61",
   "metadata": {},
   "source": [
    "FUNCIONES EN EL PLANO COMPLEJO\n",
    "uso de:\n",
    "from numpy.lib.scimath import *\n",
    "para funciones con números complejos y reales al mismo tiempo (plano complejo)"
   ]
  },
  {
   "cell_type": "code",
   "execution_count": 8,
   "id": "41507ab3-66c8-4938-b38c-35344fdebec0",
   "metadata": {},
   "outputs": [],
   "source": [
    "from numpy.lib.scimath import *"
   ]
  },
  {
   "cell_type": "markdown",
   "id": "00a3f770-c5be-4161-bde5-65d0cc1bd016",
   "metadata": {},
   "source": [
    "DERIVADAS E INTEGRALES SIMBÓLICAS\n",
    "\n",
    "symbols # expresiones simbólicas (representar expresiones algebraicas y matemáticas sin asignarles valores numéricos) \n",
    "diff    # derivada de una expresión simbólica con respecto a una variable: diff(expresion, x) seg derivada diff(expresion,x,x)\n",
    "integrate # integral de una expresión simbólica con respecto de una variable: integrate(expresion, x)\n",
    "Rational # definir números racionales, es decir, fracciones con numerador y denominador enteros: Rational(1, 3)  # Representa 1/3\n",
    "lambdify # convertir expresiones simbólicas en funciones que pueden ser evaluadas: f = lambdify(x, expresion), result = f(2)  # Evalúa la expresión en x = 2\n",
    "solve # encontrará los valores de x (raices con x=0) que satisfacen esta ecuación :solve(equation, x) \n",
    "\n",
    "Podemos ver como funciona la diferenciacion e integracion simbolica usando la expresipon v_0t-(1/2)gt^2\n",
    "Ej. Derivar y luego integrar para regresar a la expresión original de caída libre con respecto al tiempo"
   ]
  },
  {
   "cell_type": "code",
   "execution_count": 16,
   "id": "5b184e41-a7cc-4579-a57d-2a17435de6fb",
   "metadata": {},
   "outputs": [
    {
     "name": "stdout",
     "output_type": "stream",
     "text": [
      "y= -g*t**2/2 + t*v0\n",
      "y'= -g*t + v0\n",
      "la integral de y' es: -g*t**2/2 + t*v0\n",
      "-72.5\n"
     ]
    }
   ],
   "source": [
    "from sympy import symbols, diff,integrate, Rational, lambdify,solve\n",
    "v0,g,t=symbols('v0,g,t')  #en primer lugar todas nuestras variables son símbolos\n",
    "y=v0*t-Rational(1,2)*g*t**2  #expresión simbólica\n",
    "print(\"y=\",y)\n",
    "#derivar\n",
    "der1=diff(y,t)\n",
    "print(\"y'=\",der1)\n",
    "#integrar\n",
    "int1=integrate(der1,t)\n",
    "print(\"la integral de y' es:\",int1)\n",
    "f=lambdify((t,v0,g),y)\n",
    "print(f(5,10,9.8))\n",
    "roots = solve(y, t) #resuelve cuando y=0 para t\n",
    "#print ('Las raices son', roots) \n",
    "#print ('La primera raiz es', roots[0])\n",
    "#print ('La primera raiz es', roots[1])"
   ]
  },
  {
   "cell_type": "markdown",
   "id": "f6216380-7b5d-47ee-b5f3-303df1ba6ccb",
   "metadata": {},
   "source": [
    "SERIE DE TAYLOR(aproximaciones)\n",
    "\n",
    "La representación de la expresión expr en Serie de Taylor de orden **n**, en la variable **t** alrededor de **t0**, se calcula como                       \n",
    "**expr.series(t, t0, n)**.\n",
    "                        \n"
   ]
  },
  {
   "cell_type": "code",
   "execution_count": 9,
   "id": "3a85a95f-68b9-4f78-a409-bdbbf6461294",
   "metadata": {},
   "outputs": [
    {
     "data": {
      "text/latex": [
       "$\\displaystyle 1 + t + \\frac{t^{2}}{2} - \\frac{t^{4}}{8} - \\frac{t^{5}}{15} - \\frac{t^{6}}{240} + \\frac{t^{7}}{90} + O\\left(t^{8}\\right)$"
      ],
      "text/plain": [
       "1 + t + t**2/2 - t**4/8 - t**5/15 - t**6/240 + t**7/90 + O(t**8)"
      ]
     },
     "execution_count": 9,
     "metadata": {},
     "output_type": "execute_result"
    }
   ],
   "source": [
    "from sympy import symbols, exp, sin, cos, simplify, expand\n",
    "\n",
    "#para la funcion e^t \n",
    "t = symbols('t')\n",
    "exp(t).series(t, 0, 3)\n",
    "\n",
    "#para la funcion e^sen(t)\n",
    "t = symbols('t')\n",
    "f = exp(sin(t))\n",
    "f.series(t, 0, 8)\n"
   ]
  },
  {
   "cell_type": "markdown",
   "id": "f0228abb-7163-4ecb-aa50-09b55ed64de2",
   "metadata": {},
   "source": [
    "\n",
    "Puedo manipular las epxresiones puedo usar **expand** y **simplify**.   "
   ]
  },
  {
   "cell_type": "code",
   "execution_count": 26,
   "id": "aaa527a1-a4ab-44bd-ad32-ddd05502002d",
   "metadata": {},
   "outputs": [
    {
     "name": "stdout",
     "output_type": "stream",
     "text": [
      "normal: -sin(x)*sin(y) + cos(x)*cos(y)\n",
      "simplificada: cos(x + y)\n",
      "expandida: -sin(x)*sin(y) + cos(x)*cos(y)\n",
      "serie de taylor de orden 5, al rededor de 0 en la variable t : cos(y) - x*sin(y) - x**2*cos(y)/2 + x**3*sin(y)/6 + x**4*cos(y)/24 + O(x**5)\n"
     ]
    },
    {
     "data": {
      "text/latex": [
       "$\\displaystyle \\sin{\\left(x_{1} \\right)} \\cos{\\left(y_{1} \\right)} + \\sin{\\left(y_{1} \\right)} \\cos{\\left(x_{1} \\right)}$"
      ],
      "text/plain": [
       "sin(x1)*cos(y1) + sin(y1)*cos(x1)"
      ]
     },
     "execution_count": 26,
     "metadata": {},
     "output_type": "execute_result"
    }
   ],
   "source": [
    "#funcion -sin(x)*sin(y) + cos(x)*cos(y)\n",
    "x, y = symbols('x y')\n",
    "f = -sin(x)*sin(y) + cos(x)*cos(y)\n",
    "\n",
    "print(\"normal:\",f)\n",
    "print(\"simplificada:\",simplify(f))\n",
    "print(\"expandida:\", expand(f))\n",
    "\n",
    "print(\"serie de taylor de orden 5, al rededor de 0 en la variable t :\",f.series(x,0,5)) #ejemplo de serie de taylor\n",
    "\n",
    "#ejemplo para otra funcion\n",
    "x1, y1 = symbols('x1 y1')\n",
    "expand(sin(x1+y1), trig=True) # con un hint, expande la funcion con propiedades trigonometricas, en este caso usa la propiedad sin(x+y)=sin(x)cos(y),etc\n",
    "\n",
    "\n"
   ]
  },
  {
   "cell_type": "markdown",
   "id": "169632f0-f0b6-41bf-b346-6ed6486db62d",
   "metadata": {},
   "source": [
    "<div style=\"font-family: Arial, sans-serif; font-size: 24px; font-weight: bold;\">\n",
    "    SEGUNDA SECCIÓN. ÁLGEBRA LINEAL\n",
    "</div>"
   ]
  },
  {
   "cell_type": "markdown",
   "id": "21291003-3bdd-473d-ac51-8c8e6c73ea57",
   "metadata": {},
   "source": [
    "SISTEMA DE ECUACIONES LINEALES. \n",
    "\n",
    "Resolvemos x con\n",
    "$$\n",
    "\\begin{aligned}\n",
    "    &Ax = b \\\\\n",
    "\\end{aligned}\n",
    "$$\n",
    "tiene solucuón unica si\n",
    "$$\n",
    "\\begin{aligned}\n",
    "    &detA ≠ 0 \\\\\n",
    "\\end{aligned}\n",
    "$$\n",
    "Hay varios métodos para solucionar sistema de ecuaciones, la que se usará es la Gauss \n",
    "\n",
    "Ej.\n",
    "\n",
    "$$\n",
    "\\begin{aligned}\n",
    "    & 4x_1 - 2x_2 + x_3 = 11 \\\\\n",
    "    & -2x_1 =  \\\\\n",
    "    &\\omega_f^2 = \\omega_i^2 + 2\\alpha (\\theta_f - \\theta_i) \n",
    "\\end{aligned}\n",
    "$$\n",
    "\n",
    "\n",
    "CONDICIONES DE SINGULARIDAD DE LA MATRIZ(determinar la singularidas)\n",
    "\n",
    "-Criterio\n",
    "$$\n",
    "\\begin{aligned}\n",
    "    &detA<<||A|| \\\\\n",
    "\\end{aligned}\n",
    "$$\n",
    "\n",
    "la norma es la raíz cuadrada de la suma de los cuadrados de todos los elementos de la matriz.\n",
    "$$\n",
    "\\| \\mathbf{A} \\|_e = \\sqrt{\\sum_{i=1}^{n} \\sum_{j=1}^{n} |A_{ij}|^2}\n",
    "$$\n",
    "\n",
    "\n",
    "\n",
    "\n",
    "-Número de condición de matriz\n",
    "indica cuánto puede cambiar la solución si hay pequeños cambios en los coeficientes de la matriz o el vector constante\n",
    "\n",
    "\n",
    "$$\n",
    "\\begin{aligned}\n",
    "    &con(A) = ||A||||A^-1|| \\\\\n",
    "\\end{aligned}\n",
    "$$\n",
    "\n"
   ]
  },
  {
   "cell_type": "markdown",
   "id": "18b1e878-a762-4c0b-a1ae-1d21b576a444",
   "metadata": {},
   "source": [
    "<div style=\"font-family: Arial, sans-serif; font-size: 24px; font-weight: bold;\">\n",
    "    TERCERA SECCIÓN. REPASO DE FÍSICA\n",
    "</div>"
   ]
  },
  {
   "cell_type": "markdown",
   "id": "1d03d8c8-523f-491b-8154-bd313d721841",
   "metadata": {},
   "source": [
    "<div style=\"font-family: Arial, sans-serif; font-size: 15px; font-weight: bold;\">\n",
    "    ECUACIONES DE CINEMATICA (LINEAL)\n",
    "</div>\n",
    "\n",
    "Movimiento con aceleración constante\n",
    "\n",
    "$$\n",
    "\\begin{aligned}\n",
    "    &v_f = v_i + at \\\\  \n",
    "    &x_f = x_i + v_i t + \\frac{1}{2} a t^2 \\\\  \n",
    "    &v_f^2 = v_i^2 + 2a(x_f - x_i) \\\\   \n",
    "    &x_f - x_i = \\frac{(v_i + v_f)}{2} t    \n",
    "\\end{aligned}\n",
    "$$\n",
    "\n",
    "<div style=\"font-family: Arial, sans-serif; font-size: 15px; font-weight: bold;\">\n",
    "    ECUACIONES DE CINEMÁTICA (ANGULAR)\n",
    "</div>\n",
    "\n",
    "Movimiento con aceleración angular constante\n",
    "\n",
    "$$\n",
    "\\begin{aligned}\n",
    "    &\\omega_f = \\omega_i + \\alpha t \\\\\n",
    "    &\\theta_f = \\theta_i + \\omega_i t + \\frac{1}{2} \\alpha t^2 \\\\\n",
    "    &\\omega_f^2 = \\omega_i^2 + 2\\alpha (\\theta_f - \\theta_i) \\\\\n",
    "    &\\theta_f - \\theta_i = \\frac{(\\omega_i + \\omega_f)}{2} t\n",
    "\\end{aligned}\n",
    "$$\n",
    "\n",
    "donde:\n",
    "- \\( \\theta_i \\) y \\( \\theta_f \\) son la posición angular inicial y final, respectivamente.\n",
    "- \\( \\omega_i \\) y \\( \\omega_f \\) son la velocidad angular inicial y final, respectivamente.\n",
    "- \\( \\alpha \\) es la aceleración angular.\n",
    "- \\( t \\) es el tiempo.\n"
   ]
  },
  {
   "cell_type": "markdown",
   "id": "885fad61-0693-4a58-9ae3-f689be28b03c",
   "metadata": {},
   "source": [
    "Ejercicio1.\n",
    "trabajaremos con \n",
    "\n",
    "$$\n",
    "\\begin{aligned}\n",
    "    &\\theta_f = \\theta_i + \\omega_i t + \\frac{1}{2} \\alpha t^2 \\\\\n",
    "\\end{aligned}\n",
    "$$\n",
    "\n",
    "si tenemos las ecuaciones lineales siguientes\n",
    "\n",
    "$$\n",
    "\\begin{aligned}\n",
    "    &9- 2t + 5t^2 = 2 \\\\\n",
    "    &9 +4t - 5t^2 = 5 \\\\\n",
    "    &2-9t - 3t^2= 0\n",
    "\\end{aligned}\n",
    "$$\n",
    "\n",
    "estas ecuaciones representan un movimiento angular de algun cosa, tenemos diferentes valores en thetas y alfa y v, menos en t, que es lo que buscaremos\n",
    "\n",
    "de forma matricial\n",
    "\n",
    "\\begin{aligned}\n",
    "&\\begin{pmatrix} \n",
    "9 & -2 & 5 \\\\ \n",
    "8 & 4 & -5 \\\\ \n",
    "2 & -9 & -3\n",
    "\\end{pmatrix} \n",
    "\\begin{pmatrix} \n",
    "t_1 \\\\ \n",
    "t_2 \\\\ \n",
    "t_3\n",
    "\\end{pmatrix} = \n",
    "\\begin{pmatrix} \n",
    "2 \\\\ \n",
    "5 \\\\ \n",
    "0\n",
    "\\end{pmatrix}\n",
    "\\end{aligned}\n",
    "\n",
    "queremos conocer el tiempo en el que sucede esto, resolvemos para la matriz ([t1],[t2],[t3])\n",
    "es :\\n',gaussElimin(a,b))"
   ]
  },
  {
   "cell_type": "code",
   "execution_count": 4,
   "id": "1e4aecde-7d3b-49cf-bcaa-888d43b907cd",
   "metadata": {},
   "outputs": [
    {
     "name": "stdout",
     "output_type": "stream",
     "text": [
      "La matriz de coeficientes es:\n",
      "  [[ 9. -2.  5.]\n",
      " [ 8.  4. -5.]\n",
      " [ 2. -9. -3.]]\n",
      "La matriz constante es:\n",
      "  [[2.]\n",
      " [5.]\n",
      " [0.]]\n",
      "La matriz aumentada es :\n",
      " [[ 9. -2.  5.  2.]\n",
      " [ 8.  4. -5.  5.]\n",
      " [ 2. -9. -3.  0.]]\n",
      "El vector solución es :\n",
      " [[ 0.39213603]\n",
      " [ 0.16684378]\n",
      " [-0.23910733]]\n"
     ]
    }
   ],
   "source": [
    "import numpy as np\n",
    "a = np.array([[9.0,-2.0,5.0], [8.0,4.0,-5.0], [2.0,-9.0,-3.0]])\n",
    "print('La matriz de coeficientes es:\\n ', a)\n",
    "b = np.array([[2.0], [5.0], [0.0]])\n",
    "n = len(b)\n",
    "print('La matriz constante es:\\n ', b)\n",
    "\n",
    "matriz_aumentada = np.concatenate((a,b), axis=1, dtype=float)\n",
    "print('La matriz aumentada es :\\n', matriz_aumentada)\n",
    "\n",
    "\n",
    "def gaussElimin(a,b):\n",
    "  # Fase de eliminacion\n",
    "  for k in range(0,n-1):\n",
    "    for i in range(k+1,n):\n",
    "      if matriz_aumentada[i,k] != 0.0:\n",
    "        lam = matriz_aumentada[i,k]/matriz_aumentada[k,k]\n",
    "        matriz_aumentada[i] = matriz_aumentada[i] - lam*matriz_aumentada[k]\n",
    "        b[i] = b[i] - lam*b[k]\n",
    "       \n",
    "  # Fase de sustitucion hacia atras\n",
    "  for k in range(n-1,-1,-1):\n",
    "    b[k] = (b[k] - np.dot(matriz_aumentada[k,k+1:n],b[k+1:n]))/matriz_aumentada[k,k]\n",
    "  return b\n",
    "\n",
    "\n",
    "print('El vector solución es :\\n',gaussElimin(a,b))"
   ]
  },
  {
   "cell_type": "markdown",
   "id": "55f1aa41-209f-4c06-80a7-5e31906440a9",
   "metadata": {},
   "source": [
    "Ejercicio 2.  Un coche se mueve en línea recta y parte del reposo. Se sabe que el coche sigue la ecuación:  \n",
    "\n",
    "$$\n",
    "\\begin{aligned}\n",
    "    &x_2 = x_1 + v_1 t + \\frac{1}{2} a t^2\n",
    "\\end{aligned}\n",
    "$$\n",
    "\n",
    "Datos iniciales:\n",
    "- \\( x_1 = 0 \\)\n",
    "- \\( t = 5 \\)\n",
    "- \\( x_2 = 50 \\)\n",
    "- \\( v_1 = 0 \\)\n",
    "\n",
    "Nuestra ecuación en los primeros 5 segundos sería:\n",
    "\n",
    "$$\n",
    "\\begin{aligned}\n",
    "    50 = \\frac{1}{2} a (5)^2\n",
    "\\end{aligned}\n",
    "$$\n",
    "\n",
    "Datos en los siguientes 3 segundos:\n",
    "- \\( x_1 = 50 \\)\n",
    "- \\( t = 3 \\)\n",
    "- \\( a = 0 \\)\n",
    "\n",
    "Nuestra ecuación para la velocidad final es:\n",
    "\n",
    "$$\n",
    "\\begin{aligned}\n",
    "    v_2 = a(5)\n",
    "\\end{aligned}\n",
    "$$\n",
    "\n",
    "Última ecuación:\n",
    "\n",
    "$$\n",
    "\\begin{aligned}\n",
    "    x_f = v_2 (2) - \\frac{1}{2} \\left( -\\frac{v_f}{2} \\right) (2)^2\n",
    "\\end{aligned}\n",
    "$$\n",
    "\n",
    "Reorganizando:\n",
    "\n",
    "$$\n",
    "\\begin{aligned}\n",
    "    x_f = 3 v_2\n",
    "\\end{aligned}\n",
    "$$\n",
    "\n",
    "Sistema de ecuaciones lineales:\n",
    "\n",
    "$$\n",
    "\\begin{aligned}\n",
    "    &25a = 100 \\\\\n",
    "    &v_f - 5a = 0 \\\\\n",
    "    &x_2 - 3v_2 = 0\n",
    "\\end{aligned}\n",
    "$$\n",
    "\n",
    "De forma matricial:\n",
    "\n",
    "$$\n",
    "\\begin{aligned}\n",
    "    &\\begin{pmatrix} \n",
    "    0 & 0 & 25 \\\\ \n",
    "    0 & 1 & -5 \\\\ \n",
    "    1 & -3 & 0\n",
    "    \\end{pmatrix} \n",
    "    \\begin{pmatrix} \n",
    "    x_2 \\\\ \n",
    "    v_2 \\\\ \n",
    "    a\n",
    "    \\end{pmatrix} = \n",
    "    \\begin{pmatrix} \n",
    "    0 \\\\ \n",
    "    0 \\\\ \n",
    "    100\n",
    "    \\end{pmatrix}\n",
    "\\end{aligned}\n",
    "$$\n",
    "\n"
   ]
  },
  {
   "cell_type": "code",
   "execution_count": 8,
   "id": "955c937e-dc95-4a5a-9958-d9499b3a92e0",
   "metadata": {},
   "outputs": [
    {
     "name": "stdout",
     "output_type": "stream",
     "text": [
      "La matriz de coeficientes es:\n",
      "  [[ 0.  0. 25.]\n",
      " [ 0.  1. -5.]\n",
      " [ 1. -3.  0.]]\n",
      "La matriz constante es:\n",
      "  [[  0.]\n",
      " [  0.]\n",
      " [100.]]\n",
      "La matriz aumentada es :\n",
      " [[  0.   0.  25.   0.]\n",
      " [  0.   1.  -5.   0.]\n",
      " [  1.  -3.   0. 100.]]\n",
      "El vector solución es :\n",
      " [[nan]\n",
      " [nan]\n",
      " [nan]]\n"
     ]
    },
    {
     "name": "stderr",
     "output_type": "stream",
     "text": [
      "C:\\Users\\CC_15\\AppData\\Local\\Temp\\ipykernel_12784\\1771473699.py:16: RuntimeWarning: divide by zero encountered in scalar divide\n",
      "  lam = matriz_aumentada[i,k]/matriz_aumentada[k,k]\n",
      "C:\\Users\\CC_15\\AppData\\Local\\Temp\\ipykernel_12784\\1771473699.py:17: RuntimeWarning: invalid value encountered in multiply\n",
      "  matriz_aumentada[i] = matriz_aumentada[i] - lam*matriz_aumentada[k]\n",
      "C:\\Users\\CC_15\\AppData\\Local\\Temp\\ipykernel_12784\\1771473699.py:18: RuntimeWarning: invalid value encountered in multiply\n",
      "  b[i] = b[i] - lam*b[k]\n"
     ]
    }
   ],
   "source": [
    "a = np.array([[0.0,0.0,25.0], [0.0,1.0,-5.0], [1.0,-3.0,0.0]])\n",
    "print('La matriz de coeficientes es:\\n ', a)\n",
    "b = np.array([[0.0], [0.0], [100.0]])\n",
    "n = len(b)\n",
    "print('La matriz constante es:\\n ', b)\n",
    "\n",
    "matriz_aumentada = np.concatenate((a,b), axis=1, dtype=float)\n",
    "print('La matriz aumentada es :\\n', matriz_aumentada)\n",
    "\n",
    "\n",
    "def gaussElimin(a,b):\n",
    "  # Fase de eliminacion\n",
    "  for k in range(0,n-1):\n",
    "    for i in range(k+1,n):\n",
    "      if matriz_aumentada[i,k] != 0.0:\n",
    "        lam = matriz_aumentada[i,k]/matriz_aumentada[k,k]\n",
    "        matriz_aumentada[i] = matriz_aumentada[i] - lam*matriz_aumentada[k]\n",
    "        b[i] = b[i] - lam*b[k]\n",
    "       \n",
    "  # Fase de sustitucion hacia atras\n",
    "  for k in range(n-1,-1,-1):\n",
    "    b[k] = (b[k] - np.dot(matriz_aumentada[k,k+1:n],b[k+1:n]))/matriz_aumentada[k,k]\n",
    "  return b\n",
    "\n",
    "\n",
    "print('El vector solución es :\\n',gaussElimin(a,b))"
   ]
  },
  {
   "cell_type": "code",
   "execution_count": null,
   "id": "b600c8e6-a0f4-4636-a354-fa8793ecc0ae",
   "metadata": {},
   "outputs": [],
   "source": []
  }
 ],
 "metadata": {
  "kernelspec": {
   "display_name": "Python (myenv)",
   "language": "python",
   "name": "myenv"
  },
  "language_info": {
   "codemirror_mode": {
    "name": "ipython",
    "version": 3
   },
   "file_extension": ".py",
   "mimetype": "text/x-python",
   "name": "python",
   "nbconvert_exporter": "python",
   "pygments_lexer": "ipython3",
   "version": "3.12.3"
  }
 },
 "nbformat": 4,
 "nbformat_minor": 5
}
