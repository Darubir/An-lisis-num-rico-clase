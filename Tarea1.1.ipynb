{
 "cells": [
  {
   "cell_type": "code",
   "execution_count": 6,
   "id": "f5ddc3ff-8159-4543-88c6-cec5c14f9ab8",
   "metadata": {
    "scrolled": true
   },
   "outputs": [],
   "source": [
    "import numpy as np\n",
    "from numpy.lib.scimath import *"
   ]
  },
  {
   "cell_type": "markdown",
   "id": "233e049e-d689-46d8-8e6b-d316691438f9",
   "metadata": {},
   "source": [
    "EJERCICIO 1\n",
    "Fahrenheit a Celsius"
   ]
  },
  {
   "cell_type": "code",
   "execution_count": 11,
   "id": "f2013bb0-d324-491f-9bdc-1e6623651451",
   "metadata": {},
   "outputs": [
    {
     "name": "stdin",
     "output_type": "stream",
     "text": [
      "ingresa una temperatura en grados farenheith 34\n"
     ]
    },
    {
     "name": "stdout",
     "output_type": "stream",
     "text": [
      "a celcius es: 1.1111111111111112\n"
     ]
    }
   ],
   "source": [
    "f=float(input(\"ingresa una temperatura en grados farenheith\"))\n",
    "def celcius(f):\n",
    "    c=(f-32)/1.8\n",
    "    return c\n",
    "print(\"a celcius es:\",celcius(f))"
   ]
  },
  {
   "cell_type": "markdown",
   "id": "75eeef80-f19e-406f-8583-8a8bd6f07661",
   "metadata": {},
   "source": [
    "EJERCICIO 2\n",
    "Considera la definición del sinh(x)\n",
    "sinh(x)=(e^x - e^-x)/2  en x=2pi\n",
    "1.evaluando sinh(x) directamente\n",
    "2.evaluando con la definición usando la función exponencial\n",
    "3.evaluando con la definición del lado derecho, usando la potencia"
   ]
  },
  {
   "cell_type": "code",
   "execution_count": 12,
   "id": "eb680e9d-a29e-4569-98cd-56d427b9b391",
   "metadata": {},
   "outputs": [
    {
     "name": "stdout",
     "output_type": "stream",
     "text": [
      "(74.20321057778875+0j) 74.20321057778874 74.20321057778875\n",
      "0.00000j\n"
     ]
    }
   ],
   "source": [
    "#1\n",
    "x=5\n",
    "sh1=sinh(x)\n",
    "#2\n",
    "sh2=(e**x - e**-x)/2\n",
    "#3\n",
    "sh3=(exp(x)- exp(-x))/2\n",
    "print(sh1,sh2,sh3)\n",
    "print('%.5fj' % (sh1.imag)) #imprimir a 5 decimales "
   ]
  },
  {
   "cell_type": "markdown",
   "id": "64361f74-db42-4d3c-a951-61321374d797",
   "metadata": {},
   "source": [
    "EJERCICIO 3\n",
    "1.considera la relación entre el seno en variable compleja y el sinh en variable real x\n",
    "          sin(ix)=ishin(x)\n",
    "2.muestre \n",
    "    e^ix=cosx+isenx"
   ]
  },
  {
   "cell_type": "code",
   "execution_count": 13,
   "id": "d21a82b2-1b81-414e-b5ac-ded73997038f",
   "metadata": {},
   "outputs": [
    {
     "name": "stdout",
     "output_type": "stream",
     "text": [
      " #1 se cumple la igualdad sin(ix)=isinh(x)... 3.6269j = 3.6269j\n",
      " #2 se cumple la igualdad e^ix=cosx+isenx... (-0.4161468365471424+0.9092974268256817j) = (-0.4161468365471424+0.9092974268256817j)\n"
     ]
    }
   ],
   "source": [
    "x1=2 #variable real\n",
    "#1\n",
    "r2=sin(x1*1j)\n",
    "r3=1j*sinh(x1)\n",
    "print(\" #1 se cumple la igualdad sin(ix)=isinh(x)...\", '%.4fj' % (r2.imag),\"=\",'%.4fj' % (r3.imag)) #redondear complejos '%.4f + %.4fj' % (sh1.real, sh1.imag)\n",
    "\n",
    "#2\n",
    "r4=e**(x1*1j) #parentesis\n",
    "r5=cos(x1)+1j*sin(x1)\n",
    "print(\" #2 se cumple la igualdad e^ix=cosx+isenx...\", r4,\"=\",r5)"
   ]
  },
  {
   "cell_type": "markdown",
   "id": "c7d249d2-c7fa-40fd-b4ea-1df7eb3531f8",
   "metadata": {},
   "source": [
    "EJERCICIO 4\n",
    "Raices reales o complejas, de una función cuadrática\n",
    "Usa las raíces de f(x)=ax^2+bx+c"
   ]
  },
  {
   "cell_type": "code",
   "execution_count": 16,
   "id": "e5704e73-457d-496d-8e8e-ed88ff5cd973",
   "metadata": {},
   "outputs": [
    {
     "name": "stdin",
     "output_type": "stream",
     "text": [
      "a 1\n",
      "b -4\n",
      "c 2\n"
     ]
    },
    {
     "data": {
      "text/plain": [
       "array([3.41421356, 0.58578644])"
      ]
     },
     "execution_count": 16,
     "metadata": {},
     "output_type": "execute_result"
    }
   ],
   "source": [
    "a=float(input(\"a\"))\n",
    "b=float(input(\"b\"))\n",
    "c=float(input(\"c\"))\n",
    "ra=np.roots([a, b, c]) #np.roots función de numpy para raíces\n",
    "ra #trabaja con raíces negativas también"
   ]
  },
  {
   "cell_type": "markdown",
   "id": "6ad42b25-baa4-4f30-b71e-918925f701fb",
   "metadata": {},
   "source": [
    "EJERCICIO 5\n",
    "¿Cuál es la trayectoria de una pelota que se lanza con una rapidéz inicial v0 a un ángulo theta medido de la horizontal?\n",
    "Sabemos que la pelota seguirá una trayectoria y=f(x)\n",
    "   f(x)=xtan(theta)-(g/2v0^2)(x^2/cos^2(thetha))+y0\n",
    "En esta expresión, x es la coordenada horizontal, g es la aceleración de la gravedad y y0 es la posición inicial de la pelota.\n",
    "1.En tu portafolio de clase, elabora un programa en el que evalues esta expresión. El programa debe escribir el valor de todas las variables involucradas junto con las unidades usadas."
   ]
  },
  {
   "cell_type": "code",
   "execution_count": 16,
   "id": "f2a7a71a-399d-45e6-a9f1-ca2e54c919fd",
   "metadata": {},
   "outputs": [
    {
     "name": "stdin",
     "output_type": "stream",
     "text": [
      "Ingresa la posición horizontal (en metros):  55\n",
      "Ingresa la dirección (en grados):  77\n",
      "Ingresa la velocidad inicial (en m/s):  9\n",
      "Ingresa la posición inicial (en metros):  4\n"
     ]
    },
    {
     "name": "stdout",
     "output_type": "stream",
     "text": [
      "La altura y es: -3377.72494327174 metros\n"
     ]
    }
   ],
   "source": [
    "from sympy import symbols, Rational, tan,cos,lambdify\n",
    "import pint #asigna unidades a nuestras variables, sirve mas para conversión\n",
    "\n",
    "ureg = pint.UnitRegistry()\n",
    "x, theta, g, v0, y0 = symbols('x theta g v0 y0')\n",
    "y = x * tan(theta) - (g / (2 * v0**2)) * (x**2 / (cos(theta)**2)) + y0\n",
    "\n",
    "x_value = float(input(\"Ingresa la posición horizontal (en metros): \"))*ureg.meter #unidades\n",
    "theta_value = float(input(\"Ingresa la dirección (en grados): \"))*ureg.degree\n",
    "v0_value = float(input(\"Ingresa la velocidad inicial (en m/s): \"))*ureg.meter/ureg.second\n",
    "y0_value = float(input(\"Ingresa la posición inicial (en metros): \"))*ureg.meter\n",
    "g_value = 9.81 * ureg.meter / ureg.second**2 \n",
    "\n",
    "x_num = x_value.magnitude #en magnitud para lambdify\n",
    "theta_num = theta_value.to(ureg.radian).magnitude\n",
    "g_num = g_value.magnitude\n",
    "v0_num = v0_value.magnitude\n",
    "y0_num = y0_value.magnitude\n",
    "\n",
    "f = lambdify((x, theta, g, v0, y0), y)\n",
    "\n",
    "print(\"La altura y es:\" ,f(x_num, theta_num, g_num, v0_num, y0_num),\"metros\")"
   ]
  }
 ],
 "metadata": {
  "kernelspec": {
   "display_name": "Python (myenv)",
   "language": "python",
   "name": "myenv"
  },
  "language_info": {
   "codemirror_mode": {
    "name": "ipython",
    "version": 3
   },
   "file_extension": ".py",
   "mimetype": "text/x-python",
   "name": "python",
   "nbconvert_exporter": "python",
   "pygments_lexer": "ipython3",
   "version": "3.12.3"
  }
 },
 "nbformat": 4,
 "nbformat_minor": 5
}
