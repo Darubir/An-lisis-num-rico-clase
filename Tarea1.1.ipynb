{
 "cells": [
  {
   "cell_type": "code",
   "execution_count": 18,
   "id": "f5ddc3ff-8159-4543-88c6-cec5c14f9ab8",
   "metadata": {
    "scrolled": true
   },
   "outputs": [],
   "source": [
    "import math as mt\n"
   ]
  },
  {
   "cell_type": "markdown",
   "id": "233e049e-d689-46d8-8e6b-d316691438f9",
   "metadata": {},
   "source": [
    "EJERCICIO 1\n",
    "Fahrenheit a Celsius"
   ]
  },
  {
   "cell_type": "code",
   "execution_count": 5,
   "id": "f2013bb0-d324-491f-9bdc-1e6623651451",
   "metadata": {},
   "outputs": [
    {
     "name": "stdin",
     "output_type": "stream",
     "text": [
      "ingresa una temperatura en grados farenheith 346\n"
     ]
    },
    {
     "name": "stdout",
     "output_type": "stream",
     "text": [
      "a celcius es: 174.44444444444443\n"
     ]
    }
   ],
   "source": [
    "f=float(input(\"ingresa una temperatura en grados farenheith\"))\n",
    "def celcius(f):\n",
    "    c=(f-32)/1.8\n",
    "    return c\n",
    "c=celcius(f)\n",
    "print(\"a celcius es:\",c)"
   ]
  },
  {
   "cell_type": "markdown",
   "id": "75eeef80-f19e-406f-8583-8a8bd6f07661",
   "metadata": {},
   "source": [
    "EJERCICIO 2\n",
    "Considera la definición del sinh(x)\n",
    "sinh(x)=(e^x - e^-x)/2  en x=2pi\n",
    "1.evaluando sinh(x) directamente\n",
    "2.evaluando con la definición usando la función exponencial\n",
    "3.evaluando con la definición del lado derecho, usando la potencia"
   ]
  },
  {
   "cell_type": "code",
   "execution_count": 8,
   "id": "eb680e9d-a29e-4569-98cd-56d427b9b391",
   "metadata": {},
   "outputs": [
    {
     "name": "stdout",
     "output_type": "stream",
     "text": [
      "74.20321057778875 74.20321057778874 74.20321057778875\n"
     ]
    }
   ],
   "source": [
    "#1\n",
    "x=5\n",
    "sh1=mt.sinh(x)\n",
    "#2\n",
    "sh2=(mt.e**x - mt.e**-x)/2\n",
    "#3\n",
    "sh3=(math.exp(x)- math.exp(-x))/2\n",
    "print(sh1,sh2,sh3)"
   ]
  },
  {
   "cell_type": "markdown",
   "id": "c099721d-2167-4096-aeea-1f06d7c51dee",
   "metadata": {},
   "source": [
    "redondear a 16 decimales"
   ]
  },
  {
   "cell_type": "code",
   "execution_count": 11,
   "id": "d2a65262-3201-48c1-8360-343546518141",
   "metadata": {},
   "outputs": [
    {
     "name": "stdout",
     "output_type": "stream",
     "text": [
      "74.20321057778875\n"
     ]
    }
   ],
   "source": [
    "sh11=round(sh1,16)\n",
    "print(sh11)"
   ]
  },
  {
   "cell_type": "markdown",
   "id": "0a351477-01d9-4845-a826-af1668efdaa6",
   "metadata": {},
   "source": [
    "NUMEROS IMAGINARIOS(COMPLEJOS)\n",
    "tengo dos numeros complejos\n",
    "z=3+2i  parte real e imaginaria\n",
    "w=8+5i\n"
   ]
  },
  {
   "cell_type": "code",
   "execution_count": 40,
   "id": "27fdf67b-b46f-4e7c-b2fb-4123bf4a7cd8",
   "metadata": {},
   "outputs": [
    {
     "name": "stdout",
     "output_type": "stream",
     "text": [
      "(3+2j) (8+5j)\n",
      "3.0 8.0\n",
      "2.0 5.0\n",
      "(3-2j) (8-5j)\n",
      "1490.4788257895502j\n"
     ]
    }
   ],
   "source": [
    "from cmath import sin,sinh,cos\n",
    "z=complex(3,2)\n",
    "w=complex(8,5)\n",
    "print(z,w)\n",
    "print(z.real,w.real)\n",
    "print(z.imag,w.imag)\n",
    "print(z.conjugate(),w.conjugate())\n",
    "\n",
    "#funciones de variables complejas\n",
    "r1=sin(8j)\n",
    "print(r1)"
   ]
  },
  {
   "cell_type": "markdown",
   "id": "64361f74-db42-4d3c-a951-61321374d797",
   "metadata": {},
   "source": [
    "EJERCICIO 3\n",
    "1.considera la relación entre el seno en variable compleja y el sinh en variable real x\n",
    "          sin(ix)=ishin(x)\n",
    "calcula el valor de sin(ix) y el valor sinh(ix) \n",
    "\n",
    "2.demuestre \n",
    "    e^ix=cosx+isenx"
   ]
  },
  {
   "cell_type": "code",
   "execution_count": 45,
   "id": "18a7a283-146b-4206-96c4-e74f5944560a",
   "metadata": {},
   "outputs": [
    {
     "name": "stdin",
     "output_type": "stream",
     "text": [
      "ingresa 34\n"
     ]
    },
    {
     "name": "stdout",
     "output_type": "stream",
     "text": [
      "291730871263727.44j 291730871263727.44j (18.370278399516753+28.61001348346848j) (-0.8485702747846052+0.5290826861200238j)\n"
     ]
    }
   ],
   "source": [
    "#1\n",
    "x1=complex(input(\"ingresa\"))\n",
    "r2=sin(x1*1j)\n",
    "r3=1j*sinh(x1)\n",
    "\n",
    "#2\n",
    "r4=mt.e**1j*x1\n",
    "\n",
    "r5=cos(x1)+1j*sin(x1)\n",
    "print(r2,r3,r4,r5)\n"
   ]
  },
  {
   "cell_type": "markdown",
   "id": "e9f5f0c8-e300-418f-b6f6-9d2edb18210d",
   "metadata": {},
   "source": [
    "FUNCIONES EN EL PLANO COMPLEJO\n",
    "EJERCICIO 4"
   ]
  },
  {
   "cell_type": "code",
   "execution_count": null,
   "id": "57d20669-b1a9-43df-a39a-ef4f8c5c15bb",
   "metadata": {},
   "outputs": [],
   "source": [
    "from numpy.lib.scimath import *\n",
    "sqrt(4)\n",
    "s"
   ]
  }
 ],
 "metadata": {
  "kernelspec": {
   "display_name": "Python 3 (ipykernel)",
   "language": "python",
   "name": "python3"
  },
  "language_info": {
   "codemirror_mode": {
    "name": "ipython",
    "version": 3
   },
   "file_extension": ".py",
   "mimetype": "text/x-python",
   "name": "python",
   "nbconvert_exporter": "python",
   "pygments_lexer": "ipython3",
   "version": "3.11.7"
  }
 },
 "nbformat": 4,
 "nbformat_minor": 5
}
