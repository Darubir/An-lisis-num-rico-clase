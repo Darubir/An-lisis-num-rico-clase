{
 "cells": [
  {
   "cell_type": "code",
   "execution_count": 1,
   "id": "fdb2f58e-2338-4d2d-91bb-cf9dff0819ce",
   "metadata": {},
   "outputs": [],
   "source": [
    "import numpy as np\n",
    "from numpy.lib.scimath import *"
   ]
  },
  {
   "cell_type": "code",
   "execution_count": 2,
   "id": "7e80a9d9-b2d6-4984-9a4e-b52e5969b78b",
   "metadata": {},
   "outputs": [
    {
     "data": {
      "text/plain": [
       "-9.444444444444445"
      ]
     },
     "execution_count": 2,
     "metadata": {},
     "output_type": "execute_result"
    }
   ],
   "source": [
    "f=15\n",
    "c=(f-32)*(5/9)\n",
    "c"
   ]
  },
  {
   "cell_type": "code",
   "execution_count": 3,
   "id": "d2daefbd-b9fe-4962-90fd-a13876720759",
   "metadata": {},
   "outputs": [],
   "source": [
    "import math as mt\n",
    "from math import * "
   ]
  },
  {
   "cell_type": "code",
   "execution_count": 4,
   "id": "6f99ea5e-4b2e-4b55-bf70-fec231a726cf",
   "metadata": {},
   "outputs": [
    {
     "name": "stdout",
     "output_type": "stream",
     "text": [
      "74.20321057778875 74.20321057778875 74.20321057778874\n"
     ]
    }
   ],
   "source": [
    "x=5\n",
    "s1=sinh(x)\n",
    "s2=(exp(x)-exp(-x))/2\n",
    "s3=(e**x - e**-x)/2\n",
    "print(s1,s2,s3)"
   ]
  },
  {
   "cell_type": "code",
   "execution_count": 12,
   "id": "1050a370-8e4f-4137-9263-68e648852c2f",
   "metadata": {},
   "outputs": [
    {
     "name": "stdout",
     "output_type": "stream",
     "text": [
      "3.626860407847019j 3.626860407847019j\n",
      "(-0.4161468365471424+0.9092974268256817j) (-0.4161468365471424+0.9092974268256817j)\n"
     ]
    }
   ],
   "source": [
    "from numpy.lib.scimath import *# Usar cmath en lugar de math\n",
    "x1=2 \n",
    "s3 =sin(x1 * 1j)  \n",
    "s4 = 1j *sinh(x1) \n",
    "\n",
    "s5=e**(1j*x1)  #exponente\n",
    "s6=cos(x1)+1j*sin(x1)\n",
    "print(s3,s4)\n",
    "print(s5,s6)"
   ]
  },
  {
   "cell_type": "code",
   "execution_count": 20,
   "id": "209d8e17-1842-4a36-970f-f395267deeab",
   "metadata": {},
   "outputs": [
    {
     "data": {
      "text/plain": [
       "[-1 - I, -1 + I]"
      ]
     },
     "execution_count": 20,
     "metadata": {},
     "output_type": "execute_result"
    }
   ],
   "source": [
    "from sympy import *\n",
    "x2=symbols('x2')\n",
    "eq=2*x2**2 + 4*x2 + 4\n",
    "s=solve(eq, x2) \n",
    "s"
   ]
  },
  {
   "cell_type": "code",
   "execution_count": 25,
   "id": "bf8b7719-7db2-45a9-88a4-19402fa8d4b8",
   "metadata": {},
   "outputs": [
    {
     "data": {
      "text/plain": [
       "np.float64(2.564101615137755)"
      ]
     },
     "execution_count": 25,
     "metadata": {},
     "output_type": "execute_result"
    }
   ],
   "source": [
    "x,v0,teta,g,y0=symbols('x,v0,teta,g,y0')\n",
    "tray=x*tan(teta)- (g/(2*v0**2))*(x**2/(cos(teta))**2) + y0\n",
    "f=lambdify((x,v0,teta,g,y0),tray)\n",
    "f(2,4, radians(60),9.8,4)"
   ]
  },
  {
   "cell_type": "markdown",
   "id": "47669ce8-1be2-4bc9-af0d-ae6315227ef3",
   "metadata": {},
   "source": [
    "<div style=\"font-family: Arial, sans-serif; font-size: 18px; font-weight: bold;\">\n",
    "    se\n",
    "</div>"
   ]
  },
  {
   "cell_type": "markdown",
   "id": "b6dc2e75-9dd9-48c3-9c2e-d10bcd299185",
   "metadata": {},
   "source": []
  }
 ],
 "metadata": {
  "kernelspec": {
   "display_name": "Python (myenv)",
   "language": "python",
   "name": "myenv"
  },
  "language_info": {
   "codemirror_mode": {
    "name": "ipython",
    "version": 3
   },
   "file_extension": ".py",
   "mimetype": "text/x-python",
   "name": "python",
   "nbconvert_exporter": "python",
   "pygments_lexer": "ipython3",
   "version": "3.12.3"
  }
 },
 "nbformat": 4,
 "nbformat_minor": 5
}
