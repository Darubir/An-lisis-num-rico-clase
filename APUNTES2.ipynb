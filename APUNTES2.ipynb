{
 "cells": [
  {
   "cell_type": "markdown",
   "id": "66ddb734-03a1-4a81-a0c0-9655f026e6ee",
   "metadata": {},
   "source": [
    "<div style=\"font-family: Arial, sans-serif; font-size: 24px; font-weight: bold;\">\n",
    "    PRIMERA SECCIÓN. RAICES DE ECUACIONES\n",
    "</div>"
   ]
  },
  {
   "cell_type": "code",
   "execution_count": null,
   "id": "8b85834a-c144-42d0-bcfc-1cfde6f3fc5b",
   "metadata": {},
   "outputs": [
    {
     "data": {
      "image/png": "[encoded data removed]",
      "text/plain": [
       "<Figure size 640x480 with 1 Axes>"
      ]
     },
     "metadata": {},
     "output_type": "display_data"
    }
   ],
   "source": [
    "#GRAFICAR\n",
    "import math \n",
    "from math import *\n",
    "import matplotlib.pyplot as plt\n",
    "import numpy as np\n",
    "\n",
    "x = np.arange(-6.0, 6.0,0.1)\n",
    "\n",
    "s = x*np.sin(x) + 3*np.cos(x) - x\n",
    "\n",
    "line, = plt.plot(x, s, lw=2)\n",
    "\n",
    "plt.grid(True)\n",
    "plt.ylim(-80, 10)\n",
    "\n",
    "plt.title(\"$y=x^2+3x-70$\")\n",
    "plt.ylabel('$y = f(x)$')\n",
    "plt.xlabel('x')\n",
    "plt.show()\n",
    "\n",
    "#METODO DE BISECCION\n",
    "def y(x):                    # define la funcion y(x)\n",
    "  y = x*sin(x)+3*cos(x)-x\n",
    "  return y\n",
    "\n",
    "x1 = float(input('Captura el valor de x1: ')) # peticion de valor x1\n",
    "x2 = float(input('Captura el valor de x2: ')) # peticion de valor x2\n",
    "y1 = y(x1)                                    # evalua la funcion y(x1)\n",
    "y2 = y(x2)                                    # evalua la funcion y(x1)\n",
    "\n",
    "if y1*y2 > 0:                                 # prueba si los signos son iguales\n",
    "  print('No hay raices en el intervalo')\n",
    "  exit\n",
    "\n",
    "for i in range(100):\n",
    "  xh = (x1+x2)/2\n",
    "  yh = y(xh)                                  # evalua la funcion y(xh)\n",
    "  y1 = y(x1)                                  # evalua la funcion y(x1)\n",
    "  if abs(y1) < 1.0e-6:\n",
    "    break\n",
    "  elif y1*yh < 0:\n",
    "    x2 = xh\n",
    "  else:\n",
    "    x1 = xh\n",
    "      \n",
    "print('La raiz es: %.5f' % x1)\n",
    "print('Numero de bisecciones: %d' % (i+1))\n"
   ]
  },
  {
   "cell_type": "code",
   "execution_count": 1,
   "id": "58ba181f-8ab7-43ba-be19-959148e913d0",
   "metadata": {},
   "outputs": [],
   "source": [
    "## Modulo Newton-Raphson\n",
    "import sys\n",
    "\n",
    "def err(string):\n",
    "  print(string)\n",
    "  input('Press return to exit')\n",
    "  sys.exit()\n",
    "\n",
    "def newtonRaphson(f,df,a,b,tol=1.0e-9):\n",
    "  from numpy import sign\n",
    "  fa = f(a)\n",
    "  if fa == 0.0: return a\n",
    "  fb = f(b)\n",
    "  if fb == 0.0: return b\n",
    "  if sign(fa) == sign(fb): err('La raiz no esta en el intervalo')\n",
    "  x = 0.5*(a + b)\n",
    "  for i in range(30):\n",
    "    fx = f(x)\n",
    "    if fx == 0.0: return x \n",
    "    if sign(fa) != sign(fx): b = x # Haz el intervalo mas pequeño\n",
    "    else: a = x\n",
    "    dfx = df(x)  \n",
    "    try: dx = -fx/dfx # Trata un paso con la expresion de Delta x\n",
    "    except ZeroDivisionError: dx = b - a # Si division diverge, intervalo afuera\n",
    "    x = x + dx # avanza en x\n",
    "    if (b - x)*(x - a) < 0.0: # Si el resultado esta fuera, usa biseccion\n",
    "      dx = 0.5*(b - a)\n",
    "      x = a + dx \n",
    "    if abs(dx) < tol*max(abs(b),1.0): return x # Checa la convergencia y sal\n",
    "  print('Too many iterations in Newton-Raphson')\n"
   ]
  },
  {
   "cell_type": "markdown",
   "id": "3c2cab74-839f-4811-948f-03e8a090af2b",
   "metadata": {},
   "source": [
    "EJERCICIOS"
   ]
  },
  {
   "cell_type": "markdown",
   "id": "dde3b91f-3ba6-4c68-9624-c1cd16b377e7",
   "metadata": {},
   "source": [
    "Problema 1: Área de un jardín\n",
    "\n",
    "Imagina que quieres diseñar un jardin rectangular. La longitud del jardín es 3 metros más que el ancho. Deseas que el área total del jardín sea de 70 metros cuadrados. Diseñe una ecuación adecuada para el problema y resulva utilizando métodos computacionales"
   ]
  },
  {
   "cell_type": "markdown",
   "id": "c7e39877-506e-4792-8a7d-ea01227e180c",
   "metadata": {},
   "source": [
    "Problema 2: Precio de una camiseta\n",
    "\n",
    "Supón que estás en una tienda y ves una camiseta que te gusta. El precio original es de $40, pero están en oferta y se aplica un descuento del 25%. Además, hay un impuesto del 10% sobre el precio ya descontado ya descontado. ¿Cuál es el precio final de la camiseta?"
   ]
  },
  {
   "cell_type": "markdown",
   "id": "3bb23f31-86ab-48c6-8ee3-eb29b7b3d68e",
   "metadata": {},
   "source": [
    "Problema 3\n",
    "\n",
    "Encontrar la raíz de la función F(x)=cosx - x\n",
    "en el intervalo [0,1]"
   ]
  },
  {
   "cell_type": "markdown",
   "id": "a6eaf9f9-454a-4755-aa0e-6f279c756813",
   "metadata": {},
   "source": [
    "LIBRO"
   ]
  },
  {
   "cell_type": "markdown",
   "id": "9ac3ef8f-2329-4a41-98ac-73ff2101bf02",
   "metadata": {},
   "source": [
    "<div style=\"font-family: Arial, sans-serif; font-size: 24px; font-weight: bold;\">\n",
    "    SEGUNDA SECCIÓN. DIFERENCIACION NUMERICA\n",
    "</div>"
   ]
  },
  {
   "cell_type": "markdown",
   "id": "402c2ef2-26e6-4128-997b-a8b8362feaa7",
   "metadata": {},
   "source": [
    "Se utilizan las tablas de forward, backward y central, necesitamos un polinomio, se obtiene con el polinomio de lagrange.\n",
    "Tambien podrian dar la funcion directamete.\n",
    "\n",
    "Recuerda que para el polinomio de Lagrange: funcion_numerica = sp.lambdify(x, polinomio_simplificado)\n",
    "\n",
    "from sympy import symbols,lambdify\n",
    "\n"
   ]
  },
  {
   "cell_type": "code",
   "execution_count": null,
   "id": "82869cca-74da-48fc-9e12-1f8f47d9497d",
   "metadata": {},
   "outputs": [],
   "source": [
    "#estructura\n",
    "def f(x,n): #La función a derivar con n decimales\n",
    "  return round(e**(-x),n)\n",
    "\n",
    "def d2fc(x,h,f,n): #Segunda derivada de f con aproximación central con n decimales\n",
    "  d2fc=(f(x+h,n)+f(x-h,n)-2*f(x,n))/(h**2)\n",
    "  return d2fc\n"
   ]
  },
  {
   "cell_type": "markdown",
   "id": "40525dd7-d812-4e3e-88e4-d44b68afebab",
   "metadata": {},
   "source": [
    "EJERCICIOS"
   ]
  },
  {
   "cell_type": "markdown",
   "id": "cfff7684-992f-462c-b692-864f41127f98",
   "metadata": {},
   "source": [
    "<div style=\"font-family: Arial, sans-serif; font-size: 24px; font-weight: bold;\">\n",
    "    TERCERA SECCIÓN. INTEGRACION NUMERICA\n",
    "</div>"
   ]
  },
  {
   "cell_type": "markdown",
   "id": "e198a8c0-6a18-4932-b01c-44a17fb176e1",
   "metadata": {},
   "source": [
    "misma idea de derivada, se usa la regla trapezoidal"
   ]
  },
  {
   "cell_type": "code",
   "execution_count": 3,
   "id": "341ade52-e16d-4930-b299-40493d3b47a3",
   "metadata": {},
   "outputs": [
    {
     "name": "stdout",
     "output_type": "stream",
     "text": [
      "Integral = -0.8948316648532865\n",
      "n Panels = 32768\n"
     ]
    }
   ],
   "source": [
    "import math\n",
    "def trapecio_recursiva(f,a,b,Iold,k):\n",
    "  if k == 1: Inew = (f(a) + f(b))*(b - a)/2.0\n",
    "  else:\n",
    "    n = 2**(k -2 ) # numero de nuevos puntos\n",
    "    h = (b - a)/n # espaciamiento de nuevos puntos\n",
    "    x = a + h/2.0\n",
    "    sum = 0.0\n",
    "    for i in range(n):\n",
    "      sum = sum + f(x)\n",
    "      x = x + h\n",
    "      Inew = (Iold + h*sum)/2.0\n",
    "  return Inew\n",
    "\n",
    "\n",
    "#llamar la funcion \n",
    "def f(x): return math.sqrt(x)*math.cos(x) #funcion\n",
    "Iold = 0.0\n",
    "for k in range(1,21):\n",
    "  Inew = trapecio_recursiva(f,0.0,math.pi,Iold,k)\n",
    "  if (k > 1) and (abs(Inew - Iold)) < 1.0e-6: break\n",
    "  Iold = Inew\n",
    "\n",
    "print('Integral =',Inew)\n",
    "print('n Panels =',2**(k-1))\n",
    "\n",
    "#necesita solo dos paneles "
   ]
  },
  {
   "cell_type": "code",
   "execution_count": null,
   "id": "3443dba8-2157-440c-9b1f-5ebe08052491",
   "metadata": {},
   "outputs": [],
   "source": [
    "EJERCICIOS"
   ]
  }
 ],
 "metadata": {
  "kernelspec": {
   "display_name": "Python 3 (ipykernel)",
   "language": "python",
   "name": "python3"
  },
  "language_info": {
   "codemirror_mode": {
    "name": "ipython",
    "version": 3
   },
   "file_extension": ".py",
   "mimetype": "text/x-python",
   "name": "python",
   "nbconvert_exporter": "python",
   "pygments_lexer": "ipython3",
   "version": "3.12.2"
  }
 },
 "nbformat": 4,
 "nbformat_minor": 5
}
